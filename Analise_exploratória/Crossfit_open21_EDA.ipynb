{
 "cells": [
  {
   "attachments": {},
   "cell_type": "markdown",
   "metadata": {},
   "source": [
    "### Bibliotecas"
   ]
  },
  {
   "cell_type": "code",
   "execution_count": 2,
   "metadata": {},
   "outputs": [],
   "source": [
    "# importando bibliotecas\n",
    "import pandas as pd\n",
    "import numpy as np\n",
    "import matplotlib.pyplot as plt\n",
    "import sklearn\n",
    "\n",
    "from statsmodels.graphics.mosaicplot import mosaic\n",
    "\n",
    "plt.style.use(\"ggplot\")"
   ]
  },
  {
   "attachments": {},
   "cell_type": "markdown",
   "metadata": {},
   "source": [
    "### Dados"
   ]
  },
  {
   "cell_type": "code",
   "execution_count": 3,
   "metadata": {},
   "outputs": [],
   "source": [
    "df_masc = pd.read_csv('data/crossfit_open_masculino_2021.csv', index_col=[0])\n",
    "df_fem = pd.read_csv('data/crossfit_open_feminino_2021.csv', index_col=[0])"
   ]
  },
  {
   "cell_type": "code",
   "execution_count": 4,
   "metadata": {},
   "outputs": [],
   "source": [
    "df_masc['sex'] = 'male'\n",
    "df_fem['sex'] = 'female'"
   ]
  },
  {
   "cell_type": "code",
   "execution_count": 5,
   "metadata": {},
   "outputs": [],
   "source": [
    "df = pd.concat([df_masc, df_fem])"
   ]
  },
  {
   "cell_type": "code",
   "execution_count": 6,
   "metadata": {},
   "outputs": [
    {
     "data": {
      "text/plain": [
       "Index(['first_name', 'lastname', 'placing', 'country', 'continent', 'age',\n",
       "       'affiliate', 'points', '21.1', '21.2', '21.3', '21.4', 'weight_lifted',\n",
       "       'height', 'weight', 'sex'],\n",
       "      dtype='object')"
      ]
     },
     "execution_count": 6,
     "metadata": {},
     "output_type": "execute_result"
    }
   ],
   "source": [
    "df.columns"
   ]
  },
  {
   "cell_type": "code",
   "execution_count": 7,
   "metadata": {},
   "outputs": [
    {
     "data": {
      "text/html": [
       "<div>\n",
       "<style scoped>\n",
       "    .dataframe tbody tr th:only-of-type {\n",
       "        vertical-align: middle;\n",
       "    }\n",
       "\n",
       "    .dataframe tbody tr th {\n",
       "        vertical-align: top;\n",
       "    }\n",
       "\n",
       "    .dataframe thead th {\n",
       "        text-align: right;\n",
       "    }\n",
       "</style>\n",
       "<table border=\"1\" class=\"dataframe\">\n",
       "  <thead>\n",
       "    <tr style=\"text-align: right;\">\n",
       "      <th></th>\n",
       "      <th>first_name</th>\n",
       "      <th>lastname</th>\n",
       "      <th>placing</th>\n",
       "      <th>country</th>\n",
       "      <th>continent</th>\n",
       "      <th>age</th>\n",
       "      <th>affiliate</th>\n",
       "      <th>points</th>\n",
       "      <th>21.1</th>\n",
       "      <th>21.2</th>\n",
       "      <th>21.3</th>\n",
       "      <th>21.4</th>\n",
       "      <th>weight_lifted</th>\n",
       "      <th>height</th>\n",
       "      <th>weight</th>\n",
       "      <th>sex</th>\n",
       "    </tr>\n",
       "    <tr>\n",
       "      <th>index</th>\n",
       "      <th></th>\n",
       "      <th></th>\n",
       "      <th></th>\n",
       "      <th></th>\n",
       "      <th></th>\n",
       "      <th></th>\n",
       "      <th></th>\n",
       "      <th></th>\n",
       "      <th></th>\n",
       "      <th></th>\n",
       "      <th></th>\n",
       "      <th></th>\n",
       "      <th></th>\n",
       "      <th></th>\n",
       "      <th></th>\n",
       "      <th></th>\n",
       "    </tr>\n",
       "  </thead>\n",
       "  <tbody>\n",
       "    <tr>\n",
       "      <th>0</th>\n",
       "      <td>JEFFRE</td>\n",
       "      <td>ADLER</td>\n",
       "      <td>1</td>\n",
       "      <td>Canada</td>\n",
       "      <td>North America</td>\n",
       "      <td>27</td>\n",
       "      <td>CrossFit Wonderland</td>\n",
       "      <td>101.0</td>\n",
       "      <td>20</td>\n",
       "      <td>8</td>\n",
       "      <td>27</td>\n",
       "      <td>46.0</td>\n",
       "      <td>143.76</td>\n",
       "      <td>175.26</td>\n",
       "      <td>89.55</td>\n",
       "      <td>male</td>\n",
       "    </tr>\n",
       "    <tr>\n",
       "      <th>1</th>\n",
       "      <td>SCOTT</td>\n",
       "      <td>PANCHIK</td>\n",
       "      <td>2</td>\n",
       "      <td>United States</td>\n",
       "      <td>North America</td>\n",
       "      <td>33</td>\n",
       "      <td>CrossFit Mentality</td>\n",
       "      <td>141.0</td>\n",
       "      <td>33</td>\n",
       "      <td>47</td>\n",
       "      <td>5</td>\n",
       "      <td>56.0</td>\n",
       "      <td>143.31</td>\n",
       "      <td>175.26</td>\n",
       "      <td>85.0</td>\n",
       "      <td>male</td>\n",
       "    </tr>\n",
       "    <tr>\n",
       "      <th>2</th>\n",
       "      <td>TRAVIS</td>\n",
       "      <td>MEAD</td>\n",
       "      <td>3</td>\n",
       "      <td>United States</td>\n",
       "      <td>North America</td>\n",
       "      <td>34</td>\n",
       "      <td>Iron Valley CrossFit</td>\n",
       "      <td>165.0</td>\n",
       "      <td>87</td>\n",
       "      <td>24</td>\n",
       "      <td>48</td>\n",
       "      <td>6.0</td>\n",
       "      <td>156.46</td>\n",
       "      <td>185.42</td>\n",
       "      <td>93.18</td>\n",
       "      <td>male</td>\n",
       "    </tr>\n",
       "    <tr>\n",
       "      <th>3</th>\n",
       "      <td>SAXON</td>\n",
       "      <td>PANCHIK</td>\n",
       "      <td>4</td>\n",
       "      <td>United States</td>\n",
       "      <td>North America</td>\n",
       "      <td>25</td>\n",
       "      <td>CrossFit Cliffside</td>\n",
       "      <td>217.0</td>\n",
       "      <td>5</td>\n",
       "      <td>68</td>\n",
       "      <td>87</td>\n",
       "      <td>57.0</td>\n",
       "      <td>143.31</td>\n",
       "      <td>175.26</td>\n",
       "      <td>81.82</td>\n",
       "      <td>male</td>\n",
       "    </tr>\n",
       "    <tr>\n",
       "      <th>4</th>\n",
       "      <td>RICHARD</td>\n",
       "      <td>FRONING JR.</td>\n",
       "      <td>5</td>\n",
       "      <td>United States</td>\n",
       "      <td>North America</td>\n",
       "      <td>33</td>\n",
       "      <td>CrossFit Mayhem</td>\n",
       "      <td>254.0</td>\n",
       "      <td>58</td>\n",
       "      <td>91</td>\n",
       "      <td>5</td>\n",
       "      <td>100.0</td>\n",
       "      <td>141.50</td>\n",
       "      <td>175.26</td>\n",
       "      <td>88.18</td>\n",
       "      <td>male</td>\n",
       "    </tr>\n",
       "  </tbody>\n",
       "</table>\n",
       "</div>"
      ],
      "text/plain": [
       "      first_name     lastname  placing        country      continent  age  \\\n",
       "index                                                                       \n",
       "0         JEFFRE        ADLER        1         Canada  North America   27   \n",
       "1          SCOTT      PANCHIK        2  United States  North America   33   \n",
       "2         TRAVIS         MEAD        3  United States  North America   34   \n",
       "3          SAXON      PANCHIK        4  United States  North America   25   \n",
       "4        RICHARD  FRONING JR.        5  United States  North America   33   \n",
       "\n",
       "                  affiliate  points  21.1  21.2  21.3   21.4  weight_lifted  \\\n",
       "index                                                                         \n",
       "0       CrossFit Wonderland   101.0    20     8    27   46.0         143.76   \n",
       "1        CrossFit Mentality   141.0    33    47     5   56.0         143.31   \n",
       "2      Iron Valley CrossFit   165.0    87    24    48    6.0         156.46   \n",
       "3        CrossFit Cliffside   217.0     5    68    87   57.0         143.31   \n",
       "4           CrossFit Mayhem   254.0    58    91     5  100.0         141.50   \n",
       "\n",
       "       height weight   sex  \n",
       "index                       \n",
       "0      175.26  89.55  male  \n",
       "1      175.26   85.0  male  \n",
       "2      185.42  93.18  male  \n",
       "3      175.26  81.82  male  \n",
       "4      175.26  88.18  male  "
      ]
     },
     "execution_count": 7,
     "metadata": {},
     "output_type": "execute_result"
    }
   ],
   "source": [
    "df.head()"
   ]
  },
  {
   "attachments": {},
   "cell_type": "markdown",
   "metadata": {},
   "source": [
    "## Quais são os países com os maiores números de participantes?"
   ]
  },
  {
   "attachments": {},
   "cell_type": "markdown",
   "metadata": {},
   "source": [
    "### Os dez países que mais enviaram atletas por categoria (feminino x masculino)"
   ]
  },
  {
   "cell_type": "code",
   "execution_count": 8,
   "metadata": {},
   "outputs": [
    {
     "data": {
      "text/plain": [
       "United States     65145\n",
       "Australia          8206\n",
       "United Kingdom     6080\n",
       "France             6038\n",
       "Canada             5321\n",
       "Brazil             4994\n",
       "Spain              4844\n",
       "South Africa       3152\n",
       "Germany            2705\n",
       "Sweden             2138\n",
       "Name: country, dtype: int64"
      ]
     },
     "execution_count": 8,
     "metadata": {},
     "output_type": "execute_result"
    }
   ],
   "source": [
    "male_athlete_by_country = df_masc.country.value_counts()\n",
    "male_athlete_by_country.sort_values(ascending=False)\n",
    "male_athlete_by_country[:10]"
   ]
  },
  {
   "cell_type": "code",
   "execution_count": 9,
   "metadata": {},
   "outputs": [
    {
     "data": {
      "text/plain": [
       "United States     58117\n",
       "Australia          7452\n",
       "Canada             5637\n",
       "United Kingdom     4886\n",
       "Brazil             3568\n",
       "France             2944\n",
       "South Africa       2337\n",
       "Spain              2153\n",
       "Germany            1829\n",
       "Sweden             1802\n",
       "Name: country, dtype: int64"
      ]
     },
     "execution_count": 9,
     "metadata": {},
     "output_type": "execute_result"
    }
   ],
   "source": [
    "female_athlete_by_country = df_fem.country.value_counts()\n",
    "female_athlete_by_country.sort_values(ascending=False)\n",
    "female_athlete_by_country[:10]"
   ]
  },
  {
   "attachments": {},
   "cell_type": "markdown",
   "metadata": {},
   "source": [
    "### Os dez países que mais enviaram atletas (no total)"
   ]
  },
  {
   "cell_type": "code",
   "execution_count": 10,
   "metadata": {},
   "outputs": [
    {
     "data": {
      "text/plain": [
       "United States     123262\n",
       "Australia          15658\n",
       "United Kingdom     10966\n",
       "Canada             10958\n",
       "France              8982\n",
       "Brazil              8562\n",
       "Spain               6997\n",
       "South Africa        5489\n",
       "Germany             4534\n",
       "Sweden              3940\n",
       "Name: country, dtype: int64"
      ]
     },
     "execution_count": 10,
     "metadata": {},
     "output_type": "execute_result"
    }
   ],
   "source": [
    "total_athlete_by_country = df.country.value_counts()\n",
    "total_athlete_by_country.sort_values(ascending=False)\n",
    "total_athlete_by_country[:10]"
   ]
  },
  {
   "cell_type": "code",
   "execution_count": 11,
   "metadata": {},
   "outputs": [
    {
     "data": {
      "image/png": "[encoded data removed]",
      "text/plain": [
       "<Figure size 432x288 with 1 Axes>"
      ]
     },
     "metadata": {
      "needs_background": "light"
     },
     "output_type": "display_data"
    }
   ],
   "source": [
    "total_athlete_by_country[0:10].plot.bar(title=\"Total de atletas por País\")\n",
    "plt.xlabel(\"País\")\n",
    "plt.ylabel(\"Total de atletas\");"
   ]
  },
  {
   "attachments": {},
   "cell_type": "markdown",
   "metadata": {},
   "source": [
    "## Qual a quantidade de participantes por continente de origem?"
   ]
  },
  {
   "attachments": {},
   "cell_type": "markdown",
   "metadata": {},
   "source": [
    "### Quantidade por categoria por continente\n"
   ]
  },
  {
   "cell_type": "code",
   "execution_count": 12,
   "metadata": {},
   "outputs": [
    {
     "data": {
      "text/plain": [
       "North America    73659\n",
       "Europe           34317\n",
       "Oceania           9930\n",
       "Asia              8194\n",
       "South America     7076\n",
       "Africa            4287\n",
       "Name: continent, dtype: int64"
      ]
     },
     "execution_count": 12,
     "metadata": {},
     "output_type": "execute_result"
    }
   ],
   "source": [
    "# masculino\n",
    "df_masc['continent'].value_counts()"
   ]
  },
  {
   "cell_type": "code",
   "execution_count": 13,
   "metadata": {},
   "outputs": [
    {
     "data": {
      "text/plain": [
       "North America    65536\n",
       "Europe           22399\n",
       "Oceania           8958\n",
       "South America     4570\n",
       "Asia              4138\n",
       "Africa            2998\n",
       "Name: continent, dtype: int64"
      ]
     },
     "execution_count": 13,
     "metadata": {},
     "output_type": "execute_result"
    }
   ],
   "source": [
    "# feminino\n",
    "df_fem['continent'].value_counts()"
   ]
  },
  {
   "attachments": {},
   "cell_type": "markdown",
   "metadata": {},
   "source": [
    "### Quantidade total de atletas por continente"
   ]
  },
  {
   "cell_type": "code",
   "execution_count": 14,
   "metadata": {},
   "outputs": [
    {
     "data": {
      "text/plain": [
       "North America    139195\n",
       "Europe            56716\n",
       "Oceania           18888\n",
       "Asia              12332\n",
       "South America     11646\n",
       "Africa             7285\n",
       "Name: continent, dtype: int64"
      ]
     },
     "execution_count": 14,
     "metadata": {},
     "output_type": "execute_result"
    }
   ],
   "source": [
    "df['continent'].value_counts()"
   ]
  },
  {
   "cell_type": "code",
   "execution_count": 15,
   "metadata": {},
   "outputs": [
    {
     "data": {
      "image/png": "[encoded data removed]",
      "text/plain": [
       "<Figure size 432x288 with 1 Axes>"
      ]
     },
     "metadata": {
      "needs_background": "light"
     },
     "output_type": "display_data"
    }
   ],
   "source": [
    "df['continent'].value_counts().plot.bar(title=\"Quantidade de atletas por continente\");"
   ]
  },
  {
   "attachments": {},
   "cell_type": "markdown",
   "metadata": {},
   "source": [
    "## Quais são as academias com maior número de filiados que participaram do Crossfit Open 2021?\n",
    "Aqui foram ignorados os participantes que declararam não estar filiados a uma academia oficila de Crossfit."
   ]
  },
  {
   "attachments": {},
   "cell_type": "markdown",
   "metadata": {},
   "source": [
    "### Número de filiados por categoria"
   ]
  },
  {
   "cell_type": "code",
   "execution_count": 16,
   "metadata": {},
   "outputs": [
    {
     "data": {
      "text/plain": [
       "not_affiliate                        24783\n",
       "CrossFit Coraje                        156\n",
       "CrossFit 1530                          127\n",
       "P1 CrossFit                            124\n",
       "CrossFit Torian                        121\n",
       "                                     ...  \n",
       "CrossFit First Time                      1\n",
       "Muralha CrossFit                         1\n",
       "Driven by CrossFit Temecula South        1\n",
       "CrossFit Leopards                        1\n",
       "CrossFit GEDS                            1\n",
       "Name: affiliate, Length: 10004, dtype: int64"
      ]
     },
     "execution_count": 16,
     "metadata": {},
     "output_type": "execute_result"
    }
   ],
   "source": [
    "affiliate_gym_m = df_masc['affiliate'].value_counts()\n",
    "affiliate_gym_m"
   ]
  },
  {
   "cell_type": "code",
   "execution_count": 17,
   "metadata": {},
   "outputs": [
    {
     "data": {
      "image/png": "[encoded data removed]",
      "text/plain": [
       "<Figure size 432x288 with 1 Axes>"
      ]
     },
     "metadata": {
      "needs_background": "light"
     },
     "output_type": "display_data"
    }
   ],
   "source": [
    "affiliate_gym_m[1:11].plot.bar(title=\"Academias com o maior número de afiliados na categoria masculina\");"
   ]
  },
  {
   "cell_type": "code",
   "execution_count": 18,
   "metadata": {},
   "outputs": [
    {
     "data": {
      "text/plain": [
       "not_affiliate             15062\n",
       "Plus64 CrossFit             103\n",
       "CrossFit Boynton Beach      102\n",
       "CrossFit Reykjavík           97\n",
       "CrossFit Blade               93\n",
       "                          ...  \n",
       "CrossFit Blue Fenix           1\n",
       "CrossFit Hanover              1\n",
       "CrossFit Harpia               1\n",
       "WSMR CrossFit                 1\n",
       "CrossFit Sunbury              1\n",
       "Name: affiliate, Length: 9196, dtype: int64"
      ]
     },
     "execution_count": 18,
     "metadata": {},
     "output_type": "execute_result"
    }
   ],
   "source": [
    "affiliate_gym_f = df_fem['affiliate'].value_counts()\n",
    "affiliate_gym_f"
   ]
  },
  {
   "cell_type": "code",
   "execution_count": 19,
   "metadata": {},
   "outputs": [
    {
     "data": {
      "image/png": "[encoded data removed]",
      "text/plain": [
       "<Figure size 432x288 with 1 Axes>"
      ]
     },
     "metadata": {
      "needs_background": "light"
     },
     "output_type": "display_data"
    }
   ],
   "source": [
    "affiliate_gym_f[1:11].plot.bar(title=\"Academias com o maior número de afiliados na categoria feminina\");"
   ]
  },
  {
   "attachments": {},
   "cell_type": "markdown",
   "metadata": {},
   "source": [
    "### Número de filiados total"
   ]
  },
  {
   "cell_type": "code",
   "execution_count": 20,
   "metadata": {},
   "outputs": [
    {
     "data": {
      "text/plain": [
       "not_affiliate           39845\n",
       "CrossFit Coraje           241\n",
       "CrossFit 1530             220\n",
       "P1 CrossFit               216\n",
       "CrossFit Reykjavík        214\n",
       "                        ...  \n",
       "ETSMTL CrossFit             1\n",
       "CrossFit Kama               1\n",
       "CrossFit Portus 1992        1\n",
       "CrossFit 1995               1\n",
       "Rim Country CrossFit        1\n",
       "Name: affiliate, Length: 10329, dtype: int64"
      ]
     },
     "execution_count": 20,
     "metadata": {},
     "output_type": "execute_result"
    }
   ],
   "source": [
    "affiliate_gym = df['affiliate'].value_counts()\n",
    "affiliate_gym"
   ]
  },
  {
   "cell_type": "code",
   "execution_count": 21,
   "metadata": {},
   "outputs": [
    {
     "data": {
      "image/png": "[encoded data removed]",
      "text/plain": [
       "<Figure size 432x288 with 1 Axes>"
      ]
     },
     "metadata": {
      "needs_background": "light"
     },
     "output_type": "display_data"
    }
   ],
   "source": [
    "affiliate_gym[1:11].plot.bar(title=\"Academias com o maior número de afiliados\");"
   ]
  },
  {
   "attachments": {},
   "cell_type": "markdown",
   "metadata": {},
   "source": [
    "## Procurando correlação"
   ]
  },
  {
   "cell_type": "code",
   "execution_count": 22,
   "metadata": {},
   "outputs": [],
   "source": [
    "import seaborn as sns\n",
    "\n",
    "# x = df[['placing', 'country', 'age', 'height', 'weight', 'affiliate']]\n",
    "# sns.pairplot(x)"
   ]
  }
 ],
 "metadata": {
  "kernelspec": {
   "display_name": "Python 3",
   "language": "python",
   "name": "python3"
  },
  "language_info": {
   "codemirror_mode": {
    "name": "ipython",
    "version": 3
   },
   "file_extension": ".py",
   "mimetype": "text/x-python",
   "name": "python",
   "nbconvert_exporter": "python",
   "pygments_lexer": "ipython3",
   "version": "3.8.10"
  },
  "orig_nbformat": 4
 },
 "nbformat": 4,
 "nbformat_minor": 2
}
