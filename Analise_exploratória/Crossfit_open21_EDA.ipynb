{
 "cells": [
  {
   "attachments": {},
   "cell_type": "markdown",
   "metadata": {},
   "source": [
    "### Bibliotecas"
   ]
  },
  {
   "cell_type": "code",
   "execution_count": 2,
   "metadata": {},
   "outputs": [],
   "source": [
    "# importando bibliotecas\n",
    "import pandas as pd\n",
    "import numpy as np\n",
    "import matplotlib.pyplot as plt\n",
    "\n",
    "from statsmodels.graphics.mosaicplot import mosaic\n",
    "\n",
    "plt.style.use(\"ggplot\")"
   ]
  },
  {
   "attachments": {},
   "cell_type": "markdown",
   "metadata": {},
   "source": [
    "### Dados"
   ]
  },
  {
   "cell_type": "code",
   "execution_count": 3,
   "metadata": {},
   "outputs": [],
   "source": [
    "df_masc = pd.read_csv('data/crossfit_open_masculino_2021.csv')\n",
    "df_fem = pd.read_csv('data/crossfit_open_feminino_2021.csv')\n",
    "df = pd.concat([df_masc, df_fem])"
   ]
  },
  {
   "cell_type": "code",
   "execution_count": 4,
   "metadata": {},
   "outputs": [
    {
     "data": {
      "text/plain": [
       "Index(['index', 'first_name', 'lastname', 'placing', 'country', 'continent',\n",
       "       'age', 'affiliate', 'points', '21.1', '21.2', '21.3', '21.4',\n",
       "       'weight_lifted', 'height', 'weight'],\n",
       "      dtype='object')"
      ]
     },
     "execution_count": 4,
     "metadata": {},
     "output_type": "execute_result"
    }
   ],
   "source": [
    "df.columns"
   ]
  },
  {
   "attachments": {},
   "cell_type": "markdown",
   "metadata": {},
   "source": [
    "## Quais são os países com os maiores números de participantes?"
   ]
  },
  {
   "attachments": {},
   "cell_type": "markdown",
   "metadata": {},
   "source": [
    "### Os dez países que mais enviaram atletas por categoria (feminino x masculino)"
   ]
  },
  {
   "cell_type": "code",
   "execution_count": 5,
   "metadata": {},
   "outputs": [
    {
     "data": {
      "text/plain": [
       "United States     65145\n",
       "Australia          8206\n",
       "United Kingdom     6080\n",
       "France             6038\n",
       "Canada             5321\n",
       "Brazil             4994\n",
       "Spain              4844\n",
       "South Africa       3152\n",
       "Germany            2705\n",
       "Sweden             2138\n",
       "Name: country, dtype: int64"
      ]
     },
     "execution_count": 5,
     "metadata": {},
     "output_type": "execute_result"
    }
   ],
   "source": [
    "male_athlete_by_country = df_masc.country.value_counts()\n",
    "male_athlete_by_country.sort_values(ascending=False)\n",
    "male_athlete_by_country[:10]"
   ]
  },
  {
   "cell_type": "code",
   "execution_count": 6,
   "metadata": {},
   "outputs": [
    {
     "data": {
      "text/plain": [
       "United States     58117\n",
       "Australia          7452\n",
       "Canada             5637\n",
       "United Kingdom     4886\n",
       "Brazil             3568\n",
       "France             2944\n",
       "South Africa       2337\n",
       "Spain              2153\n",
       "Germany            1829\n",
       "Sweden             1802\n",
       "Name: country, dtype: int64"
      ]
     },
     "execution_count": 6,
     "metadata": {},
     "output_type": "execute_result"
    }
   ],
   "source": [
    "female_athlete_by_country = df_fem.country.value_counts()\n",
    "female_athlete_by_country.sort_values(ascending=False)\n",
    "female_athlete_by_country[:10]"
   ]
  },
  {
   "attachments": {},
   "cell_type": "markdown",
   "metadata": {},
   "source": [
    "### Os dez países que mais enviaram atletas (no total)"
   ]
  },
  {
   "cell_type": "code",
   "execution_count": 7,
   "metadata": {},
   "outputs": [
    {
     "data": {
      "text/plain": [
       "United States     123262\n",
       "Australia          15658\n",
       "United Kingdom     10966\n",
       "Canada             10958\n",
       "France              8982\n",
       "Brazil              8562\n",
       "Spain               6997\n",
       "South Africa        5489\n",
       "Germany             4534\n",
       "Sweden              3940\n",
       "Name: country, dtype: int64"
      ]
     },
     "execution_count": 7,
     "metadata": {},
     "output_type": "execute_result"
    }
   ],
   "source": [
    "total_athlete_by_country = df.country.value_counts()\n",
    "total_athlete_by_country.sort_values(ascending=False)\n",
    "total_athlete_by_country[:10]"
   ]
  },
  {
   "cell_type": "code",
   "execution_count": 8,
   "metadata": {},
   "outputs": [
    {
     "data": {
      "image/png": "[encoded data removed]",
      "text/plain": [
       "<Figure size 432x288 with 1 Axes>"
      ]
     },
     "metadata": {
      "needs_background": "light"
     },
     "output_type": "display_data"
    }
   ],
   "source": [
    "total_athlete_by_country[0:10].plot.bar(title=\"Total de atletas por País\")\n",
    "plt.xlabel(\"País\")\n",
    "plt.ylabel(\"Total de atletas\");"
   ]
  },
  {
   "attachments": {},
   "cell_type": "markdown",
   "metadata": {},
   "source": [
    "## Qual a quantidade de participantes por continente de origem?"
   ]
  },
  {
   "attachments": {},
   "cell_type": "markdown",
   "metadata": {},
   "source": [
    "### Quantidade por categoria por continente\n"
   ]
  },
  {
   "cell_type": "code",
   "execution_count": 9,
   "metadata": {},
   "outputs": [
    {
     "data": {
      "text/plain": [
       "North America    73659\n",
       "Europe           34317\n",
       "Oceania           9930\n",
       "Asia              8194\n",
       "South America     7076\n",
       "Africa            4287\n",
       "Name: continent, dtype: int64"
      ]
     },
     "execution_count": 9,
     "metadata": {},
     "output_type": "execute_result"
    }
   ],
   "source": [
    "# masculino\n",
    "df_masc['continent'].value_counts()"
   ]
  },
  {
   "cell_type": "code",
   "execution_count": 10,
   "metadata": {},
   "outputs": [
    {
     "data": {
      "text/plain": [
       "North America    65536\n",
       "Europe           22399\n",
       "Oceania           8958\n",
       "South America     4570\n",
       "Asia              4138\n",
       "Africa            2998\n",
       "Name: continent, dtype: int64"
      ]
     },
     "execution_count": 10,
     "metadata": {},
     "output_type": "execute_result"
    }
   ],
   "source": [
    "# feminino\n",
    "df_fem['continent'].value_counts()"
   ]
  },
  {
   "attachments": {},
   "cell_type": "markdown",
   "metadata": {},
   "source": [
    "### Quantidade total de atletas por continente"
   ]
  },
  {
   "cell_type": "code",
   "execution_count": 11,
   "metadata": {},
   "outputs": [
    {
     "data": {
      "text/plain": [
       "North America    139195\n",
       "Europe            56716\n",
       "Oceania           18888\n",
       "Asia              12332\n",
       "South America     11646\n",
       "Africa             7285\n",
       "Name: continent, dtype: int64"
      ]
     },
     "execution_count": 11,
     "metadata": {},
     "output_type": "execute_result"
    }
   ],
   "source": [
    "df['continent'].value_counts()"
   ]
  },
  {
   "cell_type": "code",
   "execution_count": 12,
   "metadata": {},
   "outputs": [
    {
     "data": {
      "image/png": "[encoded data removed]",
      "text/plain": [
       "<Figure size 432x288 with 1 Axes>"
      ]
     },
     "metadata": {
      "needs_background": "light"
     },
     "output_type": "display_data"
    }
   ],
   "source": [
    "df['continent'].value_counts().plot.bar(title=\"Quantidade de atletas por continente\");"
   ]
  },
  {
   "attachments": {},
   "cell_type": "markdown",
   "metadata": {},
   "source": [
    "## Quais são as academias com maior número de filiados que participaram do Crossfit Open 2021?"
   ]
  },
  {
   "attachments": {},
   "cell_type": "markdown",
   "metadata": {},
   "source": [
    "### Número de filiados por categoria"
   ]
  },
  {
   "cell_type": "code",
   "execution_count": 13,
   "metadata": {},
   "outputs": [
    {
     "data": {
      "text/plain": [
       "not_affiliate                        24783\n",
       "CrossFit Coraje                        156\n",
       "CrossFit 1530                          127\n",
       "P1 CrossFit                            124\n",
       "CrossFit Torian                        121\n",
       "                                     ...  \n",
       "CrossFit First Time                      1\n",
       "Muralha CrossFit                         1\n",
       "Driven by CrossFit Temecula South        1\n",
       "CrossFit Leopards                        1\n",
       "CrossFit GEDS                            1\n",
       "Name: affiliate, Length: 10004, dtype: int64"
      ]
     },
     "execution_count": 13,
     "metadata": {},
     "output_type": "execute_result"
    }
   ],
   "source": [
    "affiliate_gym = df_masc['affiliate'].value_counts()\n",
    "affiliate_gym"
   ]
  },
  {
   "cell_type": "code",
   "execution_count": 15,
   "metadata": {},
   "outputs": [
    {
     "data": {
      "image/png": "[encoded data removed]",
      "text/plain": [
       "<Figure size 432x288 with 1 Axes>"
      ]
     },
     "metadata": {
      "needs_background": "light"
     },
     "output_type": "display_data"
    }
   ],
   "source": [
    "affiliate_gym[:5].plot.bar(title=\"Quantidade de atletas por continente\");"
   ]
  }
 ],
 "metadata": {
  "kernelspec": {
   "display_name": "Python 3",
   "language": "python",
   "name": "python3"
  },
  "language_info": {
   "codemirror_mode": {
    "name": "ipython",
    "version": 3
   },
   "file_extension": ".py",
   "mimetype": "text/x-python",
   "name": "python",
   "nbconvert_exporter": "python",
   "pygments_lexer": "ipython3",
   "version": "3.8.10"
  },
  "orig_nbformat": 4
 },
 "nbformat": 4,
 "nbformat_minor": 2
}
