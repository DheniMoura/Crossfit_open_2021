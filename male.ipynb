{
 "cells": [
  {
   "cell_type": "code",
   "execution_count": 1,
   "metadata": {},
   "outputs": [],
   "source": [
    "# importando bibliotecas\n",
    "import pandas as pd\n",
    "import numpy as np\n",
    "# import re"
   ]
  },
  {
   "attachments": {},
   "cell_type": "markdown",
   "metadata": {},
   "source": [
    "## Carregando os dados"
   ]
  },
  {
   "cell_type": "code",
   "execution_count": 2,
   "metadata": {},
   "outputs": [],
   "source": [
    "# Lendo os dados\n",
    "open_masc = pd.read_csv('data/men_main_21.1.csv', sep=',', low_memory=False)"
   ]
  },
  {
   "cell_type": "code",
   "execution_count": 3,
   "metadata": {},
   "outputs": [
    {
     "data": {
      "text/html": [
       "<div>\n",
       "<style scoped>\n",
       "    .dataframe tbody tr th:only-of-type {\n",
       "        vertical-align: middle;\n",
       "    }\n",
       "\n",
       "    .dataframe tbody tr th {\n",
       "        vertical-align: top;\n",
       "    }\n",
       "\n",
       "    .dataframe thead th {\n",
       "        text-align: right;\n",
       "    }\n",
       "</style>\n",
       "<table border=\"1\" class=\"dataframe\">\n",
       "  <thead>\n",
       "    <tr style=\"text-align: right;\">\n",
       "      <th></th>\n",
       "      <th>id</th>\n",
       "      <th>first_name</th>\n",
       "      <th>lastname</th>\n",
       "      <th>placing</th>\n",
       "      <th>country</th>\n",
       "      <th>continent</th>\n",
       "      <th>age</th>\n",
       "      <th>affiliate</th>\n",
       "      <th>height</th>\n",
       "      <th>weight</th>\n",
       "      <th>points</th>\n",
       "      <th>21.1</th>\n",
       "      <th>21.1 time</th>\n",
       "      <th>21.2</th>\n",
       "      <th>21.2 time</th>\n",
       "      <th>21.3</th>\n",
       "      <th>21.3 time</th>\n",
       "      <th>21.4</th>\n",
       "      <th>weight lifted</th>\n",
       "    </tr>\n",
       "  </thead>\n",
       "  <tbody>\n",
       "    <tr>\n",
       "      <th>0</th>\n",
       "      <td>0</td>\n",
       "      <td>JEFFRE</td>\n",
       "      <td>ADLER</td>\n",
       "      <td>1</td>\n",
       "      <td>Canada</td>\n",
       "      <td>North America</td>\n",
       "      <td>27</td>\n",
       "      <td>CrossFit Wonderland</td>\n",
       "      <td>69 in</td>\n",
       "      <td>197 lb</td>\n",
       "      <td>101</td>\n",
       "      <td>20th (11:55)</td>\n",
       "      <td>605</td>\n",
       "      <td>8th (9:14)</td>\n",
       "      <td>225</td>\n",
       "      <td>27th (8:15)</td>\n",
       "      <td>180</td>\n",
       "      <td>46th (317 lbs)</td>\n",
       "      <td>317</td>\n",
       "    </tr>\n",
       "    <tr>\n",
       "      <th>1</th>\n",
       "      <td>1</td>\n",
       "      <td>SCOTT</td>\n",
       "      <td>PANCHIK</td>\n",
       "      <td>2</td>\n",
       "      <td>United States</td>\n",
       "      <td>North America</td>\n",
       "      <td>33</td>\n",
       "      <td>CrossFit Mentality</td>\n",
       "      <td>69 in</td>\n",
       "      <td>187 lb</td>\n",
       "      <td>141</td>\n",
       "      <td>33rd (12:25)</td>\n",
       "      <td>605</td>\n",
       "      <td>47th (9:52)</td>\n",
       "      <td>225</td>\n",
       "      <td>5th (7:48)</td>\n",
       "      <td>180</td>\n",
       "      <td>56th (316 lbs)</td>\n",
       "      <td>316</td>\n",
       "    </tr>\n",
       "    <tr>\n",
       "      <th>2</th>\n",
       "      <td>2</td>\n",
       "      <td>TRAVIS</td>\n",
       "      <td>MEAD</td>\n",
       "      <td>3</td>\n",
       "      <td>United States</td>\n",
       "      <td>North America</td>\n",
       "      <td>34</td>\n",
       "      <td>Iron Valley CrossFit</td>\n",
       "      <td>73 in</td>\n",
       "      <td>205 lb</td>\n",
       "      <td>165</td>\n",
       "      <td>87th (13:02)</td>\n",
       "      <td>605</td>\n",
       "      <td>24th (9:38)</td>\n",
       "      <td>225</td>\n",
       "      <td>48th (8:26)</td>\n",
       "      <td>180</td>\n",
       "      <td>6th (345 lbs)</td>\n",
       "      <td>345</td>\n",
       "    </tr>\n",
       "    <tr>\n",
       "      <th>3</th>\n",
       "      <td>3</td>\n",
       "      <td>SAXON</td>\n",
       "      <td>PANCHIK</td>\n",
       "      <td>4</td>\n",
       "      <td>United States</td>\n",
       "      <td>North America</td>\n",
       "      <td>25</td>\n",
       "      <td>CrossFit Cliffside</td>\n",
       "      <td>69 in</td>\n",
       "      <td>180 lb</td>\n",
       "      <td>217</td>\n",
       "      <td>5th (11:25)</td>\n",
       "      <td>605</td>\n",
       "      <td>68th (9:59)</td>\n",
       "      <td>225</td>\n",
       "      <td>87th (8:41)</td>\n",
       "      <td>180</td>\n",
       "      <td>57th (316 lbs)</td>\n",
       "      <td>316</td>\n",
       "    </tr>\n",
       "    <tr>\n",
       "      <th>4</th>\n",
       "      <td>4</td>\n",
       "      <td>RICHARD</td>\n",
       "      <td>FRONING JR.</td>\n",
       "      <td>5</td>\n",
       "      <td>United States</td>\n",
       "      <td>North America</td>\n",
       "      <td>33</td>\n",
       "      <td>CrossFit Mayhem</td>\n",
       "      <td>69 in</td>\n",
       "      <td>194 lb</td>\n",
       "      <td>254</td>\n",
       "      <td>58th (12:45)</td>\n",
       "      <td>605</td>\n",
       "      <td>91st (10:04)</td>\n",
       "      <td>225</td>\n",
       "      <td>5th (7:48)</td>\n",
       "      <td>180</td>\n",
       "      <td>100th (312 lbs)</td>\n",
       "      <td>312</td>\n",
       "    </tr>\n",
       "    <tr>\n",
       "      <th>5</th>\n",
       "      <td>5</td>\n",
       "      <td>NOAH</td>\n",
       "      <td>OHLSEN</td>\n",
       "      <td>6</td>\n",
       "      <td>United States</td>\n",
       "      <td>North America</td>\n",
       "      <td>30</td>\n",
       "      <td>Peak 360 CrossFit</td>\n",
       "      <td>67 in</td>\n",
       "      <td>190 lb</td>\n",
       "      <td>272</td>\n",
       "      <td>11th (11:41)</td>\n",
       "      <td>605</td>\n",
       "      <td>21st (9:33)</td>\n",
       "      <td>225</td>\n",
       "      <td>2nd (7:44)</td>\n",
       "      <td>180</td>\n",
       "      <td>238th (301 lbs)</td>\n",
       "      <td>301</td>\n",
       "    </tr>\n",
       "    <tr>\n",
       "      <th>6</th>\n",
       "      <td>6</td>\n",
       "      <td>SAMUEL</td>\n",
       "      <td>COURNOYER</td>\n",
       "      <td>7</td>\n",
       "      <td>Canada</td>\n",
       "      <td>North America</td>\n",
       "      <td>25</td>\n",
       "      <td>CrossFit Mayhem</td>\n",
       "      <td>180 cm</td>\n",
       "      <td>205 lb</td>\n",
       "      <td>276</td>\n",
       "      <td>158th (13:27)</td>\n",
       "      <td>605</td>\n",
       "      <td>79th (10:02)</td>\n",
       "      <td>225</td>\n",
       "      <td>20th (8:09)</td>\n",
       "      <td>180</td>\n",
       "      <td>19th (328 lbs)</td>\n",
       "      <td>328</td>\n",
       "    </tr>\n",
       "    <tr>\n",
       "      <th>7</th>\n",
       "      <td>7</td>\n",
       "      <td>COLE</td>\n",
       "      <td>GREASHABER</td>\n",
       "      <td>8</td>\n",
       "      <td>United States</td>\n",
       "      <td>North America</td>\n",
       "      <td>21</td>\n",
       "      <td>CrossFit Lee's Summit (LS)</td>\n",
       "      <td>72 in</td>\n",
       "      <td>206 lb</td>\n",
       "      <td>403</td>\n",
       "      <td>82nd (13:01)</td>\n",
       "      <td>605</td>\n",
       "      <td>68th (9:59)</td>\n",
       "      <td>225</td>\n",
       "      <td>46th (8:25)</td>\n",
       "      <td>180</td>\n",
       "      <td>207th (303 lbs)</td>\n",
       "      <td>303</td>\n",
       "    </tr>\n",
       "    <tr>\n",
       "      <th>8</th>\n",
       "      <td>8</td>\n",
       "      <td>AGUSTIN</td>\n",
       "      <td>RICHELME</td>\n",
       "      <td>9</td>\n",
       "      <td>Argentina</td>\n",
       "      <td>South America</td>\n",
       "      <td>24</td>\n",
       "      <td>NaN</td>\n",
       "      <td>173 cm</td>\n",
       "      <td>83 kg</td>\n",
       "      <td>417</td>\n",
       "      <td>30th (12:19)</td>\n",
       "      <td>605</td>\n",
       "      <td>137th (10:15)</td>\n",
       "      <td>225</td>\n",
       "      <td>1st (7:40)</td>\n",
       "      <td>180</td>\n",
       "      <td>249th (300 lbs)</td>\n",
       "      <td>300</td>\n",
       "    </tr>\n",
       "    <tr>\n",
       "      <th>9</th>\n",
       "      <td>9</td>\n",
       "      <td>OLEG</td>\n",
       "      <td>LASCENKO</td>\n",
       "      <td>10</td>\n",
       "      <td>United Kingdom</td>\n",
       "      <td>Europe</td>\n",
       "      <td>23</td>\n",
       "      <td>CrossFit Abu Dhabi</td>\n",
       "      <td>175 cm</td>\n",
       "      <td>92 kg</td>\n",
       "      <td>428</td>\n",
       "      <td>53rd (12:43)</td>\n",
       "      <td>605</td>\n",
       "      <td>22nd (9:34)</td>\n",
       "      <td>225</td>\n",
       "      <td>102nd (8:46)</td>\n",
       "      <td>180</td>\n",
       "      <td>251st (300 lbs)</td>\n",
       "      <td>300</td>\n",
       "    </tr>\n",
       "  </tbody>\n",
       "</table>\n",
       "</div>"
      ],
      "text/plain": [
       "   id first_name     lastname placing         country      continent age  \\\n",
       "0   0     JEFFRE        ADLER       1          Canada  North America  27   \n",
       "1   1      SCOTT      PANCHIK       2   United States  North America  33   \n",
       "2   2     TRAVIS         MEAD       3   United States  North America  34   \n",
       "3   3      SAXON      PANCHIK       4   United States  North America  25   \n",
       "4   4    RICHARD  FRONING JR.       5   United States  North America  33   \n",
       "5   5       NOAH       OHLSEN       6   United States  North America  30   \n",
       "6   6     SAMUEL    COURNOYER       7          Canada  North America  25   \n",
       "7   7       COLE   GREASHABER       8   United States  North America  21   \n",
       "8   8    AGUSTIN     RICHELME       9       Argentina  South America  24   \n",
       "9   9       OLEG     LASCENKO      10  United Kingdom         Europe  23   \n",
       "\n",
       "                    affiliate  height    weight points           21.1  \\\n",
       "0         CrossFit Wonderland   69 in    197 lb    101   20th (11:55)   \n",
       "1          CrossFit Mentality   69 in    187 lb    141   33rd (12:25)   \n",
       "2        Iron Valley CrossFit   73 in    205 lb    165   87th (13:02)   \n",
       "3          CrossFit Cliffside   69 in    180 lb    217    5th (11:25)   \n",
       "4             CrossFit Mayhem   69 in    194 lb    254   58th (12:45)   \n",
       "5           Peak 360 CrossFit   67 in    190 lb    272   11th (11:41)   \n",
       "6             CrossFit Mayhem  180 cm    205 lb    276  158th (13:27)   \n",
       "7  CrossFit Lee's Summit (LS)   72 in    206 lb    403   82nd (13:01)   \n",
       "8                         NaN  173 cm     83 kg    417   30th (12:19)   \n",
       "9          CrossFit Abu Dhabi  175 cm     92 kg    428   53rd (12:43)   \n",
       "\n",
       "  21.1 time           21.2 21.2 time          21.3 21.3 time             21.4  \\\n",
       "0       605     8th (9:14)       225   27th (8:15)       180   46th (317 lbs)   \n",
       "1       605    47th (9:52)       225    5th (7:48)       180   56th (316 lbs)   \n",
       "2       605    24th (9:38)       225   48th (8:26)       180    6th (345 lbs)   \n",
       "3       605    68th (9:59)       225   87th (8:41)       180   57th (316 lbs)   \n",
       "4       605   91st (10:04)       225    5th (7:48)       180  100th (312 lbs)   \n",
       "5       605    21st (9:33)       225    2nd (7:44)       180  238th (301 lbs)   \n",
       "6       605   79th (10:02)       225   20th (8:09)       180   19th (328 lbs)   \n",
       "7       605    68th (9:59)       225   46th (8:25)       180  207th (303 lbs)   \n",
       "8       605  137th (10:15)       225    1st (7:40)       180  249th (300 lbs)   \n",
       "9       605    22nd (9:34)       225  102nd (8:46)       180  251st (300 lbs)   \n",
       "\n",
       "  weight lifted  \n",
       "0           317  \n",
       "1           316  \n",
       "2           345  \n",
       "3           316  \n",
       "4           312  \n",
       "5           301  \n",
       "6           328  \n",
       "7           303  \n",
       "8           300  \n",
       "9           300  "
      ]
     },
     "execution_count": 3,
     "metadata": {},
     "output_type": "execute_result"
    }
   ],
   "source": [
    "# Primeira visualização do Dataframe\n",
    "open_masc.head(10)"
   ]
  },
  {
   "cell_type": "code",
   "execution_count": 4,
   "metadata": {},
   "outputs": [
    {
     "data": {
      "text/plain": [
       "(137464, 19)"
      ]
     },
     "execution_count": 4,
     "metadata": {},
     "output_type": "execute_result"
    }
   ],
   "source": [
    "# Verificando o \"tamanho\" do df\n",
    "open_masc.shape"
   ]
  },
  {
   "cell_type": "code",
   "execution_count": 5,
   "metadata": {},
   "outputs": [
    {
     "name": "stdout",
     "output_type": "stream",
     "text": [
      "<class 'pandas.core.frame.DataFrame'>\n",
      "RangeIndex: 137464 entries, 0 to 137463\n",
      "Data columns (total 19 columns):\n",
      " #   Column         Non-Null Count   Dtype \n",
      "---  ------         --------------   ----- \n",
      " 0   id             137464 non-null  int64 \n",
      " 1   first_name     137463 non-null  object\n",
      " 2   lastname       137456 non-null  object\n",
      " 3   placing        137464 non-null  object\n",
      " 4   country        137464 non-null  object\n",
      " 5   continent      137464 non-null  object\n",
      " 6   age            137464 non-null  object\n",
      " 7   affiliate      112681 non-null  object\n",
      " 8   height         87195 non-null   object\n",
      " 9    weight        119239 non-null  object\n",
      " 10  points         137464 non-null  object\n",
      " 11  21.1           103062 non-null  object\n",
      " 12  21.1 time      43026 non-null   object\n",
      " 13  21.2           106708 non-null  object\n",
      " 14  21.2 time      96154 non-null   object\n",
      " 15  21.3           101174 non-null  object\n",
      " 16  21.3 time      51893 non-null   object\n",
      " 17  21.4           117637 non-null  object\n",
      " 18  weight lifted  82201 non-null   object\n",
      "dtypes: int64(1), object(18)\n",
      "memory usage: 19.9+ MB\n"
     ]
    }
   ],
   "source": [
    "open_masc.info()"
   ]
  },
  {
   "cell_type": "code",
   "execution_count": 6,
   "metadata": {},
   "outputs": [
    {
     "data": {
      "text/plain": [
       "Index(['id', 'first_name', 'lastname', 'placing', 'country', 'continent',\n",
       "       'age', 'affiliate', 'height ', ' weight', 'points', '21.1', '21.1 time',\n",
       "       '21.2', '21.2 time', '21.3', '21.3 time', '21.4', 'weight lifted'],\n",
       "      dtype='object')"
      ]
     },
     "execution_count": 6,
     "metadata": {},
     "output_type": "execute_result"
    }
   ],
   "source": [
    "# Verificando quais são as colunas originais do df\n",
    "open_masc.columns"
   ]
  },
  {
   "cell_type": "code",
   "execution_count": 7,
   "metadata": {},
   "outputs": [
    {
     "data": {
      "text/plain": [
       "id                   0\n",
       "first_name           1\n",
       "lastname             8\n",
       "placing              0\n",
       "country              0\n",
       "continent            0\n",
       "age                  0\n",
       "affiliate        24783\n",
       "height           50269\n",
       " weight          18225\n",
       "points               0\n",
       "21.1             34402\n",
       "21.1 time        94438\n",
       "21.2             30756\n",
       "21.2 time        41310\n",
       "21.3             36290\n",
       "21.3 time        85571\n",
       "21.4             19827\n",
       "weight lifted    55263\n",
       "dtype: int64"
      ]
     },
     "execution_count": 7,
     "metadata": {},
     "output_type": "execute_result"
    }
   ],
   "source": [
    "open_masc.isnull().sum()"
   ]
  },
  {
   "cell_type": "code",
   "execution_count": 8,
   "metadata": {},
   "outputs": [
    {
     "data": {
      "text/html": [
       "<div>\n",
       "<style scoped>\n",
       "    .dataframe tbody tr th:only-of-type {\n",
       "        vertical-align: middle;\n",
       "    }\n",
       "\n",
       "    .dataframe tbody tr th {\n",
       "        vertical-align: top;\n",
       "    }\n",
       "\n",
       "    .dataframe thead th {\n",
       "        text-align: right;\n",
       "    }\n",
       "</style>\n",
       "<table border=\"1\" class=\"dataframe\">\n",
       "  <thead>\n",
       "    <tr style=\"text-align: right;\">\n",
       "      <th></th>\n",
       "      <th>id</th>\n",
       "    </tr>\n",
       "  </thead>\n",
       "  <tbody>\n",
       "    <tr>\n",
       "      <th>count</th>\n",
       "      <td>137464.000000</td>\n",
       "    </tr>\n",
       "    <tr>\n",
       "      <th>mean</th>\n",
       "      <td>68731.500000</td>\n",
       "    </tr>\n",
       "    <tr>\n",
       "      <th>std</th>\n",
       "      <td>39682.583039</td>\n",
       "    </tr>\n",
       "    <tr>\n",
       "      <th>min</th>\n",
       "      <td>0.000000</td>\n",
       "    </tr>\n",
       "    <tr>\n",
       "      <th>25%</th>\n",
       "      <td>34365.750000</td>\n",
       "    </tr>\n",
       "    <tr>\n",
       "      <th>50%</th>\n",
       "      <td>68731.500000</td>\n",
       "    </tr>\n",
       "    <tr>\n",
       "      <th>75%</th>\n",
       "      <td>103097.250000</td>\n",
       "    </tr>\n",
       "    <tr>\n",
       "      <th>max</th>\n",
       "      <td>137463.000000</td>\n",
       "    </tr>\n",
       "  </tbody>\n",
       "</table>\n",
       "</div>"
      ],
      "text/plain": [
       "                  id\n",
       "count  137464.000000\n",
       "mean    68731.500000\n",
       "std     39682.583039\n",
       "min         0.000000\n",
       "25%     34365.750000\n",
       "50%     68731.500000\n",
       "75%    103097.250000\n",
       "max    137463.000000"
      ]
     },
     "execution_count": 8,
     "metadata": {},
     "output_type": "execute_result"
    }
   ],
   "source": [
    "# Primeira descrição dos dados numéricos, \n",
    "# verifica-se que algumas colunas de valores estão em string e \n",
    "# precisam ser convertidos para possibilitar que os calculos sejam feitos\n",
    "open_masc.describe()"
   ]
  },
  {
   "cell_type": "code",
   "execution_count": 9,
   "metadata": {},
   "outputs": [
    {
     "name": "stdout",
     "output_type": "stream",
     "text": [
      "['57646' 'Afghanistan' 'Albania' 'Algeria' 'Andorra' 'Angola' 'Argentina'\n",
      " 'Armenia' 'Australia' 'Austria' 'Azerbaijan' 'Bahamas' 'Bahrain'\n",
      " 'Bangladesh' 'Barbados' 'Belarus' 'Belgium' 'Belize' 'Benin' 'Bolivia'\n",
      " 'Bosnia and Herzegovina' 'Botswana' 'Brazil' 'Brunei Darussalam'\n",
      " 'Bulgaria' 'Cambodia' 'Cameroon' 'Canada' 'Cape Verde' 'Chile' 'China'\n",
      " 'Colombia' 'Congo, The Democratic Republic of the' 'Costa Rica' 'Croatia'\n",
      " 'Cyprus' 'Czech Republic' \"Côte d'Ivoire\" 'Denmark' 'Djibouti' 'Dominica'\n",
      " 'Dominican Republic' 'Ecuador' 'Egypt' 'El Salvador' 'Estonia' 'Ethiopia'\n",
      " 'Fiji' 'Finland' 'France' 'Georgia' 'Germany' 'Ghana' 'Greece'\n",
      " 'Guatemala' 'Guinea' 'Guyana' 'Haiti' 'Honduras' 'Hungary' 'Iceland'\n",
      " 'India' 'Indonesia' 'Iran' 'Iraq' 'Ireland' 'Israel' 'Italy' 'Jamaica'\n",
      " 'Japan' 'Jordan' 'Kazakhstan' 'Kenya' 'Korea, Republic of' 'Kosovo'\n",
      " 'Kuwait' 'Kyrgyzstan' 'Laos' 'Latvia' 'Lebanon' 'Libya' 'Liechtenstein'\n",
      " 'Lithuania' 'Luxembourg' 'Macedonia' 'Madagascar' 'Malawi' 'Malaysia'\n",
      " 'Maldives' 'Malta' 'Mauritius' 'Mexico' 'Moldova' 'Mongolia' 'Montenegro'\n",
      " 'Morocco' 'Mozambique' 'Namibia' 'Nauru' 'Nepal' 'Netherlands'\n",
      " 'New Zealand' 'Nicaragua' 'Nigeria' 'Norway' 'Oman' 'Pakistan'\n",
      " 'Palestinian Territory' 'Panama' 'Papua New Guinea' 'Paraguay' 'Peru'\n",
      " 'Philippines' 'Poland' 'Portugal' 'Qatar' 'Romania' 'Russian Federation'\n",
      " 'Saint Kitts and Nevis' 'Saint Lucia' 'Samoa' 'San Marino' 'Saudi Arabia'\n",
      " 'Senegal' 'Serbia' 'Seychelles' 'Singapore' 'Slovakia' 'Slovenia'\n",
      " 'Somalia' 'South Africa' 'Spain' 'Sri Lanka' 'Sudan' 'Suriname' 'Sweden'\n",
      " 'Switzerland' 'Syrian Arab Republic' 'Tanzania' 'Thailand' 'Tonga'\n",
      " 'Trinidad and Tobago' 'Tunisia' 'Turkey' 'Uganda' 'Ukraine'\n",
      " 'United Arab Emirates' 'United Kingdom' 'United States' 'Uruguay'\n",
      " 'Uzbekistan' 'Vanuatu' 'Venezuela' 'Viet Nam' 'Yemen' 'Zambia' 'Zimbabwe']\n"
     ]
    }
   ],
   "source": [
    "# Visualizando todos os países listados\n",
    "# Verificou-se a necessidade de remover uma linha com dados inconsistentes\n",
    "country = np.array(open_masc['country'])\n",
    "unique_country = np.unique(country)\n",
    "print(unique_country)"
   ]
  },
  {
   "cell_type": "code",
   "execution_count": 10,
   "metadata": {},
   "outputs": [
    {
     "name": "stdout",
     "output_type": "stream",
     "text": [
      "['Africa' 'Asia' 'Europe' 'North America' 'Oceania' 'South America'\n",
      " 'United Kingdom']\n"
     ]
    }
   ],
   "source": [
    "# Conferindo os continentes listados, \n",
    "# verificou-se a necessidade de remover dados inconsistentes\n",
    "continent = np.array(open_masc['continent'])\n",
    "unique_continent = np.unique(continent)\n",
    "print(unique_continent)"
   ]
  },
  {
   "attachments": {},
   "cell_type": "markdown",
   "metadata": {},
   "source": [
    "### Limpeza os dados"
   ]
  },
  {
   "cell_type": "code",
   "execution_count": 11,
   "metadata": {},
   "outputs": [
    {
     "data": {
      "text/html": [
       "<div>\n",
       "<style scoped>\n",
       "    .dataframe tbody tr th:only-of-type {\n",
       "        vertical-align: middle;\n",
       "    }\n",
       "\n",
       "    .dataframe tbody tr th {\n",
       "        vertical-align: top;\n",
       "    }\n",
       "\n",
       "    .dataframe thead th {\n",
       "        text-align: right;\n",
       "    }\n",
       "</style>\n",
       "<table border=\"1\" class=\"dataframe\">\n",
       "  <thead>\n",
       "    <tr style=\"text-align: right;\">\n",
       "      <th></th>\n",
       "      <th>first_name</th>\n",
       "      <th>lastname</th>\n",
       "      <th>country</th>\n",
       "      <th>continent</th>\n",
       "      <th>age</th>\n",
       "      <th>affiliate</th>\n",
       "      <th>points</th>\n",
       "      <th>weight lifted</th>\n",
       "    </tr>\n",
       "  </thead>\n",
       "  <tbody>\n",
       "    <tr>\n",
       "      <th>0</th>\n",
       "      <td>JEFFRE</td>\n",
       "      <td>ADLER</td>\n",
       "      <td>Canada</td>\n",
       "      <td>North America</td>\n",
       "      <td>27</td>\n",
       "      <td>CrossFit Wonderland</td>\n",
       "      <td>101</td>\n",
       "      <td>317</td>\n",
       "    </tr>\n",
       "    <tr>\n",
       "      <th>1</th>\n",
       "      <td>SCOTT</td>\n",
       "      <td>PANCHIK</td>\n",
       "      <td>United States</td>\n",
       "      <td>North America</td>\n",
       "      <td>33</td>\n",
       "      <td>CrossFit Mentality</td>\n",
       "      <td>141</td>\n",
       "      <td>316</td>\n",
       "    </tr>\n",
       "    <tr>\n",
       "      <th>2</th>\n",
       "      <td>TRAVIS</td>\n",
       "      <td>MEAD</td>\n",
       "      <td>United States</td>\n",
       "      <td>North America</td>\n",
       "      <td>34</td>\n",
       "      <td>Iron Valley CrossFit</td>\n",
       "      <td>165</td>\n",
       "      <td>345</td>\n",
       "    </tr>\n",
       "    <tr>\n",
       "      <th>3</th>\n",
       "      <td>SAXON</td>\n",
       "      <td>PANCHIK</td>\n",
       "      <td>United States</td>\n",
       "      <td>North America</td>\n",
       "      <td>25</td>\n",
       "      <td>CrossFit Cliffside</td>\n",
       "      <td>217</td>\n",
       "      <td>316</td>\n",
       "    </tr>\n",
       "    <tr>\n",
       "      <th>4</th>\n",
       "      <td>RICHARD</td>\n",
       "      <td>FRONING JR.</td>\n",
       "      <td>United States</td>\n",
       "      <td>North America</td>\n",
       "      <td>33</td>\n",
       "      <td>CrossFit Mayhem</td>\n",
       "      <td>254</td>\n",
       "      <td>312</td>\n",
       "    </tr>\n",
       "    <tr>\n",
       "      <th>5</th>\n",
       "      <td>NOAH</td>\n",
       "      <td>OHLSEN</td>\n",
       "      <td>United States</td>\n",
       "      <td>North America</td>\n",
       "      <td>30</td>\n",
       "      <td>Peak 360 CrossFit</td>\n",
       "      <td>272</td>\n",
       "      <td>301</td>\n",
       "    </tr>\n",
       "    <tr>\n",
       "      <th>6</th>\n",
       "      <td>SAMUEL</td>\n",
       "      <td>COURNOYER</td>\n",
       "      <td>Canada</td>\n",
       "      <td>North America</td>\n",
       "      <td>25</td>\n",
       "      <td>CrossFit Mayhem</td>\n",
       "      <td>276</td>\n",
       "      <td>328</td>\n",
       "    </tr>\n",
       "    <tr>\n",
       "      <th>7</th>\n",
       "      <td>COLE</td>\n",
       "      <td>GREASHABER</td>\n",
       "      <td>United States</td>\n",
       "      <td>North America</td>\n",
       "      <td>21</td>\n",
       "      <td>CrossFit Lee's Summit (LS)</td>\n",
       "      <td>403</td>\n",
       "      <td>303</td>\n",
       "    </tr>\n",
       "    <tr>\n",
       "      <th>8</th>\n",
       "      <td>AGUSTIN</td>\n",
       "      <td>RICHELME</td>\n",
       "      <td>Argentina</td>\n",
       "      <td>South America</td>\n",
       "      <td>24</td>\n",
       "      <td>NaN</td>\n",
       "      <td>417</td>\n",
       "      <td>300</td>\n",
       "    </tr>\n",
       "    <tr>\n",
       "      <th>9</th>\n",
       "      <td>OLEG</td>\n",
       "      <td>LASCENKO</td>\n",
       "      <td>United Kingdom</td>\n",
       "      <td>Europe</td>\n",
       "      <td>23</td>\n",
       "      <td>CrossFit Abu Dhabi</td>\n",
       "      <td>428</td>\n",
       "      <td>300</td>\n",
       "    </tr>\n",
       "  </tbody>\n",
       "</table>\n",
       "</div>"
      ],
      "text/plain": [
       "  first_name     lastname         country      continent age  \\\n",
       "0     JEFFRE        ADLER          Canada  North America  27   \n",
       "1      SCOTT      PANCHIK   United States  North America  33   \n",
       "2     TRAVIS         MEAD   United States  North America  34   \n",
       "3      SAXON      PANCHIK   United States  North America  25   \n",
       "4    RICHARD  FRONING JR.   United States  North America  33   \n",
       "5       NOAH       OHLSEN   United States  North America  30   \n",
       "6     SAMUEL    COURNOYER          Canada  North America  25   \n",
       "7       COLE   GREASHABER   United States  North America  21   \n",
       "8    AGUSTIN     RICHELME       Argentina  South America  24   \n",
       "9       OLEG     LASCENKO  United Kingdom         Europe  23   \n",
       "\n",
       "                    affiliate points weight lifted  \n",
       "0         CrossFit Wonderland    101           317  \n",
       "1          CrossFit Mentality    141           316  \n",
       "2        Iron Valley CrossFit    165           345  \n",
       "3          CrossFit Cliffside    217           316  \n",
       "4             CrossFit Mayhem    254           312  \n",
       "5           Peak 360 CrossFit    272           301  \n",
       "6             CrossFit Mayhem    276           328  \n",
       "7  CrossFit Lee's Summit (LS)    403           303  \n",
       "8                         NaN    417           300  \n",
       "9          CrossFit Abu Dhabi    428           300  "
      ]
     },
     "execution_count": 11,
     "metadata": {},
     "output_type": "execute_result"
    }
   ],
   "source": [
    "# Novo Dataframe apenas com as colunas que serão analisadas\n",
    "df_masc = open_masc[['first_name', 'lastname', 'country', \n",
    "'continent', 'age', 'affiliate', 'points', 'weight lifted']]\n",
    "df_masc.head(10)"
   ]
  },
  {
   "cell_type": "code",
   "execution_count": 12,
   "metadata": {},
   "outputs": [],
   "source": [
    "# removendo inconsistencias de paises e continentes\n",
    "filtro1 = df_masc['country'] != '57646'\n",
    "df_masc = df_masc[filtro1]"
   ]
  },
  {
   "cell_type": "code",
   "execution_count": 13,
   "metadata": {},
   "outputs": [
    {
     "name": "stdout",
     "output_type": "stream",
     "text": [
      "['Afghanistan' 'Albania' 'Algeria' 'Andorra' 'Angola' 'Argentina'\n",
      " 'Armenia' 'Australia' 'Austria' 'Azerbaijan' 'Bahamas' 'Bahrain'\n",
      " 'Bangladesh' 'Barbados' 'Belarus' 'Belgium' 'Belize' 'Benin' 'Bolivia'\n",
      " 'Bosnia and Herzegovina' 'Botswana' 'Brazil' 'Brunei Darussalam'\n",
      " 'Bulgaria' 'Cambodia' 'Cameroon' 'Canada' 'Cape Verde' 'Chile' 'China'\n",
      " 'Colombia' 'Congo, The Democratic Republic of the' 'Costa Rica' 'Croatia'\n",
      " 'Cyprus' 'Czech Republic' \"Côte d'Ivoire\" 'Denmark' 'Djibouti' 'Dominica'\n",
      " 'Dominican Republic' 'Ecuador' 'Egypt' 'El Salvador' 'Estonia' 'Ethiopia'\n",
      " 'Fiji' 'Finland' 'France' 'Georgia' 'Germany' 'Ghana' 'Greece'\n",
      " 'Guatemala' 'Guinea' 'Guyana' 'Haiti' 'Honduras' 'Hungary' 'Iceland'\n",
      " 'India' 'Indonesia' 'Iran' 'Iraq' 'Ireland' 'Israel' 'Italy' 'Jamaica'\n",
      " 'Japan' 'Jordan' 'Kazakhstan' 'Kenya' 'Korea, Republic of' 'Kosovo'\n",
      " 'Kuwait' 'Kyrgyzstan' 'Laos' 'Latvia' 'Lebanon' 'Libya' 'Liechtenstein'\n",
      " 'Lithuania' 'Luxembourg' 'Macedonia' 'Madagascar' 'Malawi' 'Malaysia'\n",
      " 'Maldives' 'Malta' 'Mauritius' 'Mexico' 'Moldova' 'Mongolia' 'Montenegro'\n",
      " 'Morocco' 'Mozambique' 'Namibia' 'Nauru' 'Nepal' 'Netherlands'\n",
      " 'New Zealand' 'Nicaragua' 'Nigeria' 'Norway' 'Oman' 'Pakistan'\n",
      " 'Palestinian Territory' 'Panama' 'Papua New Guinea' 'Paraguay' 'Peru'\n",
      " 'Philippines' 'Poland' 'Portugal' 'Qatar' 'Romania' 'Russian Federation'\n",
      " 'Saint Kitts and Nevis' 'Saint Lucia' 'Samoa' 'San Marino' 'Saudi Arabia'\n",
      " 'Senegal' 'Serbia' 'Seychelles' 'Singapore' 'Slovakia' 'Slovenia'\n",
      " 'Somalia' 'South Africa' 'Spain' 'Sri Lanka' 'Sudan' 'Suriname' 'Sweden'\n",
      " 'Switzerland' 'Syrian Arab Republic' 'Tanzania' 'Thailand' 'Tonga'\n",
      " 'Trinidad and Tobago' 'Tunisia' 'Turkey' 'Uganda' 'Ukraine'\n",
      " 'United Arab Emirates' 'United Kingdom' 'United States' 'Uruguay'\n",
      " 'Uzbekistan' 'Vanuatu' 'Venezuela' 'Viet Nam' 'Yemen' 'Zambia' 'Zimbabwe']\n"
     ]
    }
   ],
   "source": [
    "country = np.array(df_masc['country'])\n",
    "unique_country = np.unique(country)\n",
    "print(unique_country)"
   ]
  },
  {
   "cell_type": "code",
   "execution_count": 14,
   "metadata": {},
   "outputs": [
    {
     "name": "stdout",
     "output_type": "stream",
     "text": [
      "['Africa' 'Asia' 'Europe' 'North America' 'Oceania' 'South America']\n"
     ]
    }
   ],
   "source": [
    "continent = np.array(df_masc['continent'])\n",
    "unique_continent = np.unique(continent)\n",
    "print(unique_continent)"
   ]
  },
  {
   "cell_type": "code",
   "execution_count": 15,
   "metadata": {},
   "outputs": [
    {
     "data": {
      "text/html": [
       "<div>\n",
       "<style scoped>\n",
       "    .dataframe tbody tr th:only-of-type {\n",
       "        vertical-align: middle;\n",
       "    }\n",
       "\n",
       "    .dataframe tbody tr th {\n",
       "        vertical-align: top;\n",
       "    }\n",
       "\n",
       "    .dataframe thead th {\n",
       "        text-align: right;\n",
       "    }\n",
       "</style>\n",
       "<table border=\"1\" class=\"dataframe\">\n",
       "  <thead>\n",
       "    <tr style=\"text-align: right;\">\n",
       "      <th></th>\n",
       "      <th>first_name</th>\n",
       "      <th>lastname</th>\n",
       "      <th>country</th>\n",
       "      <th>continent</th>\n",
       "      <th>age</th>\n",
       "      <th>affiliate</th>\n",
       "      <th>points</th>\n",
       "      <th>weight lifted</th>\n",
       "    </tr>\n",
       "  </thead>\n",
       "  <tbody>\n",
       "    <tr>\n",
       "      <th>0</th>\n",
       "      <td>JEFFRE</td>\n",
       "      <td>ADLER</td>\n",
       "      <td>Canada</td>\n",
       "      <td>North America</td>\n",
       "      <td>27</td>\n",
       "      <td>CrossFit Wonderland</td>\n",
       "      <td>101</td>\n",
       "      <td>317</td>\n",
       "    </tr>\n",
       "    <tr>\n",
       "      <th>1</th>\n",
       "      <td>SCOTT</td>\n",
       "      <td>PANCHIK</td>\n",
       "      <td>United States</td>\n",
       "      <td>North America</td>\n",
       "      <td>33</td>\n",
       "      <td>CrossFit Mentality</td>\n",
       "      <td>141</td>\n",
       "      <td>316</td>\n",
       "    </tr>\n",
       "    <tr>\n",
       "      <th>2</th>\n",
       "      <td>TRAVIS</td>\n",
       "      <td>MEAD</td>\n",
       "      <td>United States</td>\n",
       "      <td>North America</td>\n",
       "      <td>34</td>\n",
       "      <td>Iron Valley CrossFit</td>\n",
       "      <td>165</td>\n",
       "      <td>345</td>\n",
       "    </tr>\n",
       "    <tr>\n",
       "      <th>3</th>\n",
       "      <td>SAXON</td>\n",
       "      <td>PANCHIK</td>\n",
       "      <td>United States</td>\n",
       "      <td>North America</td>\n",
       "      <td>25</td>\n",
       "      <td>CrossFit Cliffside</td>\n",
       "      <td>217</td>\n",
       "      <td>316</td>\n",
       "    </tr>\n",
       "    <tr>\n",
       "      <th>4</th>\n",
       "      <td>RICHARD</td>\n",
       "      <td>FRONING JR.</td>\n",
       "      <td>United States</td>\n",
       "      <td>North America</td>\n",
       "      <td>33</td>\n",
       "      <td>CrossFit Mayhem</td>\n",
       "      <td>254</td>\n",
       "      <td>312</td>\n",
       "    </tr>\n",
       "    <tr>\n",
       "      <th>5</th>\n",
       "      <td>NOAH</td>\n",
       "      <td>OHLSEN</td>\n",
       "      <td>United States</td>\n",
       "      <td>North America</td>\n",
       "      <td>30</td>\n",
       "      <td>Peak 360 CrossFit</td>\n",
       "      <td>272</td>\n",
       "      <td>301</td>\n",
       "    </tr>\n",
       "    <tr>\n",
       "      <th>6</th>\n",
       "      <td>SAMUEL</td>\n",
       "      <td>COURNOYER</td>\n",
       "      <td>Canada</td>\n",
       "      <td>North America</td>\n",
       "      <td>25</td>\n",
       "      <td>CrossFit Mayhem</td>\n",
       "      <td>276</td>\n",
       "      <td>328</td>\n",
       "    </tr>\n",
       "    <tr>\n",
       "      <th>7</th>\n",
       "      <td>COLE</td>\n",
       "      <td>GREASHABER</td>\n",
       "      <td>United States</td>\n",
       "      <td>North America</td>\n",
       "      <td>21</td>\n",
       "      <td>CrossFit Lee's Summit (LS)</td>\n",
       "      <td>403</td>\n",
       "      <td>303</td>\n",
       "    </tr>\n",
       "    <tr>\n",
       "      <th>8</th>\n",
       "      <td>AGUSTIN</td>\n",
       "      <td>RICHELME</td>\n",
       "      <td>Argentina</td>\n",
       "      <td>South America</td>\n",
       "      <td>24</td>\n",
       "      <td>NaN</td>\n",
       "      <td>417</td>\n",
       "      <td>300</td>\n",
       "    </tr>\n",
       "    <tr>\n",
       "      <th>9</th>\n",
       "      <td>OLEG</td>\n",
       "      <td>LASCENKO</td>\n",
       "      <td>United Kingdom</td>\n",
       "      <td>Europe</td>\n",
       "      <td>23</td>\n",
       "      <td>CrossFit Abu Dhabi</td>\n",
       "      <td>428</td>\n",
       "      <td>300</td>\n",
       "    </tr>\n",
       "  </tbody>\n",
       "</table>\n",
       "</div>"
      ],
      "text/plain": [
       "  first_name     lastname         country      continent  age  \\\n",
       "0     JEFFRE        ADLER          Canada  North America   27   \n",
       "1      SCOTT      PANCHIK   United States  North America   33   \n",
       "2     TRAVIS         MEAD   United States  North America   34   \n",
       "3      SAXON      PANCHIK   United States  North America   25   \n",
       "4    RICHARD  FRONING JR.   United States  North America   33   \n",
       "5       NOAH       OHLSEN   United States  North America   30   \n",
       "6     SAMUEL    COURNOYER          Canada  North America   25   \n",
       "7       COLE   GREASHABER   United States  North America   21   \n",
       "8    AGUSTIN     RICHELME       Argentina  South America   24   \n",
       "9       OLEG     LASCENKO  United Kingdom         Europe   23   \n",
       "\n",
       "                    affiliate points weight lifted  \n",
       "0         CrossFit Wonderland    101           317  \n",
       "1          CrossFit Mentality    141           316  \n",
       "2        Iron Valley CrossFit    165           345  \n",
       "3          CrossFit Cliffside    217           316  \n",
       "4             CrossFit Mayhem    254           312  \n",
       "5           Peak 360 CrossFit    272           301  \n",
       "6             CrossFit Mayhem    276           328  \n",
       "7  CrossFit Lee's Summit (LS)    403           303  \n",
       "8                         NaN    417           300  \n",
       "9          CrossFit Abu Dhabi    428           300  "
      ]
     },
     "execution_count": 15,
     "metadata": {},
     "output_type": "execute_result"
    }
   ],
   "source": [
    "# Convertendo a coluna age (idade) de 'string' para numérico\n",
    "df_masc['age'] = pd.to_numeric(df_masc['age'])\n",
    "df_masc.head(10)"
   ]
  },
  {
   "cell_type": "code",
   "execution_count": 16,
   "metadata": {},
   "outputs": [
    {
     "data": {
      "text/html": [
       "<div>\n",
       "<style scoped>\n",
       "    .dataframe tbody tr th:only-of-type {\n",
       "        vertical-align: middle;\n",
       "    }\n",
       "\n",
       "    .dataframe tbody tr th {\n",
       "        vertical-align: top;\n",
       "    }\n",
       "\n",
       "    .dataframe thead th {\n",
       "        text-align: right;\n",
       "    }\n",
       "</style>\n",
       "<table border=\"1\" class=\"dataframe\">\n",
       "  <thead>\n",
       "    <tr style=\"text-align: right;\">\n",
       "      <th></th>\n",
       "      <th>first_name</th>\n",
       "      <th>lastname</th>\n",
       "      <th>country</th>\n",
       "      <th>continent</th>\n",
       "      <th>age</th>\n",
       "      <th>affiliate</th>\n",
       "      <th>points</th>\n",
       "      <th>weight lifted</th>\n",
       "    </tr>\n",
       "  </thead>\n",
       "  <tbody>\n",
       "    <tr>\n",
       "      <th>0</th>\n",
       "      <td>JEFFRE</td>\n",
       "      <td>ADLER</td>\n",
       "      <td>Canada</td>\n",
       "      <td>North America</td>\n",
       "      <td>27</td>\n",
       "      <td>CrossFit Wonderland</td>\n",
       "      <td>101</td>\n",
       "      <td>317</td>\n",
       "    </tr>\n",
       "    <tr>\n",
       "      <th>1</th>\n",
       "      <td>SCOTT</td>\n",
       "      <td>PANCHIK</td>\n",
       "      <td>United States</td>\n",
       "      <td>North America</td>\n",
       "      <td>33</td>\n",
       "      <td>CrossFit Mentality</td>\n",
       "      <td>141</td>\n",
       "      <td>316</td>\n",
       "    </tr>\n",
       "    <tr>\n",
       "      <th>2</th>\n",
       "      <td>TRAVIS</td>\n",
       "      <td>MEAD</td>\n",
       "      <td>United States</td>\n",
       "      <td>North America</td>\n",
       "      <td>34</td>\n",
       "      <td>Iron Valley CrossFit</td>\n",
       "      <td>165</td>\n",
       "      <td>345</td>\n",
       "    </tr>\n",
       "    <tr>\n",
       "      <th>3</th>\n",
       "      <td>SAXON</td>\n",
       "      <td>PANCHIK</td>\n",
       "      <td>United States</td>\n",
       "      <td>North America</td>\n",
       "      <td>25</td>\n",
       "      <td>CrossFit Cliffside</td>\n",
       "      <td>217</td>\n",
       "      <td>316</td>\n",
       "    </tr>\n",
       "    <tr>\n",
       "      <th>4</th>\n",
       "      <td>RICHARD</td>\n",
       "      <td>FRONING JR.</td>\n",
       "      <td>United States</td>\n",
       "      <td>North America</td>\n",
       "      <td>33</td>\n",
       "      <td>CrossFit Mayhem</td>\n",
       "      <td>254</td>\n",
       "      <td>312</td>\n",
       "    </tr>\n",
       "    <tr>\n",
       "      <th>5</th>\n",
       "      <td>NOAH</td>\n",
       "      <td>OHLSEN</td>\n",
       "      <td>United States</td>\n",
       "      <td>North America</td>\n",
       "      <td>30</td>\n",
       "      <td>Peak 360 CrossFit</td>\n",
       "      <td>272</td>\n",
       "      <td>301</td>\n",
       "    </tr>\n",
       "    <tr>\n",
       "      <th>6</th>\n",
       "      <td>SAMUEL</td>\n",
       "      <td>COURNOYER</td>\n",
       "      <td>Canada</td>\n",
       "      <td>North America</td>\n",
       "      <td>25</td>\n",
       "      <td>CrossFit Mayhem</td>\n",
       "      <td>276</td>\n",
       "      <td>328</td>\n",
       "    </tr>\n",
       "    <tr>\n",
       "      <th>7</th>\n",
       "      <td>COLE</td>\n",
       "      <td>GREASHABER</td>\n",
       "      <td>United States</td>\n",
       "      <td>North America</td>\n",
       "      <td>21</td>\n",
       "      <td>CrossFit Lee's Summit (LS)</td>\n",
       "      <td>403</td>\n",
       "      <td>303</td>\n",
       "    </tr>\n",
       "    <tr>\n",
       "      <th>8</th>\n",
       "      <td>AGUSTIN</td>\n",
       "      <td>RICHELME</td>\n",
       "      <td>Argentina</td>\n",
       "      <td>South America</td>\n",
       "      <td>24</td>\n",
       "      <td>NaN</td>\n",
       "      <td>417</td>\n",
       "      <td>300</td>\n",
       "    </tr>\n",
       "    <tr>\n",
       "      <th>9</th>\n",
       "      <td>OLEG</td>\n",
       "      <td>LASCENKO</td>\n",
       "      <td>United Kingdom</td>\n",
       "      <td>Europe</td>\n",
       "      <td>23</td>\n",
       "      <td>CrossFit Abu Dhabi</td>\n",
       "      <td>428</td>\n",
       "      <td>300</td>\n",
       "    </tr>\n",
       "  </tbody>\n",
       "</table>\n",
       "</div>"
      ],
      "text/plain": [
       "  first_name     lastname         country      continent  age  \\\n",
       "0     JEFFRE        ADLER          Canada  North America   27   \n",
       "1      SCOTT      PANCHIK   United States  North America   33   \n",
       "2     TRAVIS         MEAD   United States  North America   34   \n",
       "3      SAXON      PANCHIK   United States  North America   25   \n",
       "4    RICHARD  FRONING JR.   United States  North America   33   \n",
       "5       NOAH       OHLSEN   United States  North America   30   \n",
       "6     SAMUEL    COURNOYER          Canada  North America   25   \n",
       "7       COLE   GREASHABER   United States  North America   21   \n",
       "8    AGUSTIN     RICHELME       Argentina  South America   24   \n",
       "9       OLEG     LASCENKO  United Kingdom         Europe   23   \n",
       "\n",
       "                    affiliate points weight lifted  \n",
       "0         CrossFit Wonderland    101           317  \n",
       "1          CrossFit Mentality    141           316  \n",
       "2        Iron Valley CrossFit    165           345  \n",
       "3          CrossFit Cliffside    217           316  \n",
       "4             CrossFit Mayhem    254           312  \n",
       "5           Peak 360 CrossFit    272           301  \n",
       "6             CrossFit Mayhem    276           328  \n",
       "7  CrossFit Lee's Summit (LS)    403           303  \n",
       "8                         NaN    417           300  \n",
       "9          CrossFit Abu Dhabi    428           300  "
      ]
     },
     "execution_count": 16,
     "metadata": {},
     "output_type": "execute_result"
    }
   ],
   "source": [
    "df_masc['weight lifted'] = df_masc['weight lifted'].fillna('0')\n",
    "df_masc.head(10)"
   ]
  },
  {
   "cell_type": "code",
   "execution_count": 17,
   "metadata": {},
   "outputs": [],
   "source": [
    "# Iniciando o processo para converter weight_lift para numerico\n",
    "def substitui_lbs(value):\n",
    "    x = value.replace(' lbs', '')\n",
    "    x = float(x) / 2.205\n",
    "    return(x)"
   ]
  },
  {
   "cell_type": "code",
   "execution_count": 18,
   "metadata": {},
   "outputs": [],
   "source": [
    "def substitui_kg(value):\n",
    "    x = value.replace(' kg', '')\n",
    "    return(x)"
   ]
  },
  {
   "cell_type": "code",
   "execution_count": 19,
   "metadata": {},
   "outputs": [],
   "source": [
    "df_masc['weight lifted'] = df_masc['weight lifted'].apply(substitui_kg)\n"
   ]
  },
  {
   "cell_type": "code",
   "execution_count": 20,
   "metadata": {},
   "outputs": [],
   "source": [
    "def remove_peso_invalido(value):\n",
    "    if ('(--)' in value):\n",
    "        value = '0'\n",
    "    return value"
   ]
  },
  {
   "cell_type": "code",
   "execution_count": 21,
   "metadata": {},
   "outputs": [],
   "source": [
    "df_masc['weight lifted'] = df_masc['weight lifted'].apply(remove_peso_invalido)"
   ]
  },
  {
   "cell_type": "code",
   "execution_count": 22,
   "metadata": {},
   "outputs": [],
   "source": [
    "df_masc['weight lifted'] = df_masc['weight lifted'].apply(substitui_lbs)\n"
   ]
  },
  {
   "cell_type": "code",
   "execution_count": 23,
   "metadata": {},
   "outputs": [],
   "source": [
    "# Convertendo a coluna weight lifted de 'string' para numérico\n",
    "df_masc['weight lifted'] = pd.to_numeric(df_masc['weight lifted'])"
   ]
  },
  {
   "cell_type": "code",
   "execution_count": 24,
   "metadata": {},
   "outputs": [
    {
     "data": {
      "text/plain": [
       "0         143.764172\n",
       "1         143.310658\n",
       "2         156.462585\n",
       "3         143.310658\n",
       "4         141.496599\n",
       "             ...    \n",
       "137459      0.000000\n",
       "137460      0.000000\n",
       "137461      0.000000\n",
       "137462      0.000000\n",
       "137463      0.000000\n",
       "Name: weight lifted, Length: 137463, dtype: float64"
      ]
     },
     "execution_count": 24,
     "metadata": {},
     "output_type": "execute_result"
    }
   ],
   "source": [
    "df_masc['weight lifted']"
   ]
  },
  {
   "cell_type": "code",
   "execution_count": 25,
   "metadata": {},
   "outputs": [],
   "source": [
    "# Inicio do processo para converter points para numérico\n",
    "def remove_pontos_invalidos(value):\n",
    "    if ('rd' in value):\n",
    "        value = '0'\n",
    "    elif ('lb' in value):\n",
    "        value = '0'\n",
    "    elif ('kg' in value):\n",
    "        value = '0'\n",
    "    elif ('th' or 'st' in value):\n",
    "        value = '0'\n",
    "    return value"
   ]
  },
  {
   "cell_type": "code",
   "execution_count": 26,
   "metadata": {},
   "outputs": [],
   "source": [
    "df_masc['points'] = df_masc['points'].apply(remove_pontos_invalidos)\n",
    "# df_masc['points']"
   ]
  },
  {
   "cell_type": "code",
   "execution_count": 27,
   "metadata": {},
   "outputs": [
    {
     "data": {
      "text/plain": [
       "0         0\n",
       "1         0\n",
       "2         0\n",
       "3         0\n",
       "4         0\n",
       "         ..\n",
       "137459    0\n",
       "137460    0\n",
       "137461    0\n",
       "137462    0\n",
       "137463    0\n",
       "Name: points, Length: 137463, dtype: int64"
      ]
     },
     "execution_count": 27,
     "metadata": {},
     "output_type": "execute_result"
    }
   ],
   "source": [
    "# Convertendo a coluna points lifted de 'string' para numérico\n",
    "df_masc['points'] = pd.to_numeric(df_masc['points'])\n",
    "df_masc['points']"
   ]
  },
  {
   "cell_type": "code",
   "execution_count": 28,
   "metadata": {},
   "outputs": [
    {
     "data": {
      "text/plain": [
       "0         0.0\n",
       "1         0.0\n",
       "2         0.0\n",
       "3         0.0\n",
       "4         0.0\n",
       "         ... \n",
       "137459    0.0\n",
       "137460    0.0\n",
       "137461    0.0\n",
       "137462    0.0\n",
       "137463    0.0\n",
       "Name: points, Length: 137463, dtype: float64"
      ]
     },
     "execution_count": 28,
     "metadata": {},
     "output_type": "execute_result"
    }
   ],
   "source": [
    "df_masc['points'] = df_masc['points'].astype(float)\n",
    "df_masc['points']"
   ]
  },
  {
   "cell_type": "code",
   "execution_count": 29,
   "metadata": {},
   "outputs": [
    {
     "name": "stdout",
     "output_type": "stream",
     "text": [
      "<class 'pandas.core.frame.DataFrame'>\n",
      "Int64Index: 137463 entries, 0 to 137463\n",
      "Data columns (total 8 columns):\n",
      " #   Column         Non-Null Count   Dtype  \n",
      "---  ------         --------------   -----  \n",
      " 0   first_name     137462 non-null  object \n",
      " 1   lastname       137456 non-null  object \n",
      " 2   country        137463 non-null  object \n",
      " 3   continent      137463 non-null  object \n",
      " 4   age            137463 non-null  int64  \n",
      " 5   affiliate      112680 non-null  object \n",
      " 6   points         137463 non-null  float64\n",
      " 7   weight lifted  137463 non-null  float64\n",
      "dtypes: float64(2), int64(1), object(5)\n",
      "memory usage: 9.4+ MB\n"
     ]
    }
   ],
   "source": [
    "df_masc.info()"
   ]
  },
  {
   "cell_type": "code",
   "execution_count": 30,
   "metadata": {},
   "outputs": [
    {
     "data": {
      "text/plain": [
       "first_name           1\n",
       "lastname             7\n",
       "country              0\n",
       "continent            0\n",
       "age                  0\n",
       "affiliate        24783\n",
       "points               0\n",
       "weight lifted        0\n",
       "dtype: int64"
      ]
     },
     "execution_count": 30,
     "metadata": {},
     "output_type": "execute_result"
    }
   ],
   "source": [
    "df_masc.isna().sum()"
   ]
  },
  {
   "cell_type": "code",
   "execution_count": 31,
   "metadata": {},
   "outputs": [
    {
     "data": {
      "text/html": [
       "<div>\n",
       "<style scoped>\n",
       "    .dataframe tbody tr th:only-of-type {\n",
       "        vertical-align: middle;\n",
       "    }\n",
       "\n",
       "    .dataframe tbody tr th {\n",
       "        vertical-align: top;\n",
       "    }\n",
       "\n",
       "    .dataframe thead th {\n",
       "        text-align: right;\n",
       "    }\n",
       "</style>\n",
       "<table border=\"1\" class=\"dataframe\">\n",
       "  <thead>\n",
       "    <tr style=\"text-align: right;\">\n",
       "      <th></th>\n",
       "      <th>first_name</th>\n",
       "      <th>lastname</th>\n",
       "      <th>country</th>\n",
       "      <th>continent</th>\n",
       "      <th>age</th>\n",
       "      <th>affiliate</th>\n",
       "      <th>points</th>\n",
       "      <th>weight lifted</th>\n",
       "    </tr>\n",
       "  </thead>\n",
       "  <tbody>\n",
       "    <tr>\n",
       "      <th>93138</th>\n",
       "      <td>NaN</td>\n",
       "      <td>YEONGDON</td>\n",
       "      <td>Korea, Republic of</td>\n",
       "      <td>Asia</td>\n",
       "      <td>28</td>\n",
       "      <td>CrossFit 660</td>\n",
       "      <td>0.0</td>\n",
       "      <td>0.0</td>\n",
       "    </tr>\n",
       "  </tbody>\n",
       "</table>\n",
       "</div>"
      ],
      "text/plain": [
       "      first_name  lastname             country continent  age     affiliate  \\\n",
       "93138        NaN  YEONGDON  Korea, Republic of      Asia   28  CrossFit 660   \n",
       "\n",
       "       points  weight lifted  \n",
       "93138     0.0            0.0  "
      ]
     },
     "execution_count": 31,
     "metadata": {},
     "output_type": "execute_result"
    }
   ],
   "source": [
    "# Encontrando quem tem first_name nulo\n",
    "df_masc[pd.isna(df_masc['first_name'])]"
   ]
  },
  {
   "cell_type": "code",
   "execution_count": 32,
   "metadata": {},
   "outputs": [
    {
     "data": {
      "text/html": [
       "<div>\n",
       "<style scoped>\n",
       "    .dataframe tbody tr th:only-of-type {\n",
       "        vertical-align: middle;\n",
       "    }\n",
       "\n",
       "    .dataframe tbody tr th {\n",
       "        vertical-align: top;\n",
       "    }\n",
       "\n",
       "    .dataframe thead th {\n",
       "        text-align: right;\n",
       "    }\n",
       "</style>\n",
       "<table border=\"1\" class=\"dataframe\">\n",
       "  <thead>\n",
       "    <tr style=\"text-align: right;\">\n",
       "      <th></th>\n",
       "      <th>first_name</th>\n",
       "      <th>lastname</th>\n",
       "      <th>country</th>\n",
       "      <th>continent</th>\n",
       "      <th>age</th>\n",
       "      <th>affiliate</th>\n",
       "      <th>points</th>\n",
       "      <th>weight lifted</th>\n",
       "    </tr>\n",
       "  </thead>\n",
       "  <tbody>\n",
       "    <tr>\n",
       "      <th>2040</th>\n",
       "      <td>HYEONJONG</td>\n",
       "      <td>NaN</td>\n",
       "      <td>Korea, Republic of</td>\n",
       "      <td>Asia</td>\n",
       "      <td>31</td>\n",
       "      <td>CrossFit Zest</td>\n",
       "      <td>0.0</td>\n",
       "      <td>114.285714</td>\n",
       "    </tr>\n",
       "    <tr>\n",
       "      <th>7732</th>\n",
       "      <td>YOUNGSEON</td>\n",
       "      <td>NaN</td>\n",
       "      <td>Korea, Republic of</td>\n",
       "      <td>Asia</td>\n",
       "      <td>23</td>\n",
       "      <td>Golden Crown CrossFit Seodaemun</td>\n",
       "      <td>0.0</td>\n",
       "      <td>97.505669</td>\n",
       "    </tr>\n",
       "    <tr>\n",
       "      <th>19017</th>\n",
       "      <td>TAKSEOK</td>\n",
       "      <td>NaN</td>\n",
       "      <td>Korea, Republic of</td>\n",
       "      <td>Asia</td>\n",
       "      <td>41</td>\n",
       "      <td>CrossFit Geumchon</td>\n",
       "      <td>0.0</td>\n",
       "      <td>97.505669</td>\n",
       "    </tr>\n",
       "    <tr>\n",
       "      <th>73598</th>\n",
       "      <td>MICHAEL</td>\n",
       "      <td>NaN</td>\n",
       "      <td>Canada</td>\n",
       "      <td>North America</td>\n",
       "      <td>51</td>\n",
       "      <td>CrossFit Calgary</td>\n",
       "      <td>0.0</td>\n",
       "      <td>0.000000</td>\n",
       "    </tr>\n",
       "    <tr>\n",
       "      <th>81080</th>\n",
       "      <td>JONGMYUNG</td>\n",
       "      <td>NaN</td>\n",
       "      <td>Korea, Republic of</td>\n",
       "      <td>Asia</td>\n",
       "      <td>28</td>\n",
       "      <td>CrossFit Lagom</td>\n",
       "      <td>0.0</td>\n",
       "      <td>0.000000</td>\n",
       "    </tr>\n",
       "    <tr>\n",
       "      <th>86324</th>\n",
       "      <td>DAVID</td>\n",
       "      <td>NaN</td>\n",
       "      <td>United States</td>\n",
       "      <td>North America</td>\n",
       "      <td>37</td>\n",
       "      <td>CrossFit East Oahu</td>\n",
       "      <td>0.0</td>\n",
       "      <td>66.666667</td>\n",
       "    </tr>\n",
       "    <tr>\n",
       "      <th>133060</th>\n",
       "      <td>BRIAN</td>\n",
       "      <td>NaN</td>\n",
       "      <td>United States</td>\n",
       "      <td>North America</td>\n",
       "      <td>33</td>\n",
       "      <td>NaN</td>\n",
       "      <td>0.0</td>\n",
       "      <td>0.000000</td>\n",
       "    </tr>\n",
       "  </tbody>\n",
       "</table>\n",
       "</div>"
      ],
      "text/plain": [
       "       first_name lastname             country      continent  age  \\\n",
       "2040    HYEONJONG      NaN  Korea, Republic of           Asia   31   \n",
       "7732    YOUNGSEON      NaN  Korea, Republic of           Asia   23   \n",
       "19017     TAKSEOK      NaN  Korea, Republic of           Asia   41   \n",
       "73598     MICHAEL      NaN              Canada  North America   51   \n",
       "81080   JONGMYUNG      NaN  Korea, Republic of           Asia   28   \n",
       "86324       DAVID      NaN       United States  North America   37   \n",
       "133060      BRIAN      NaN       United States  North America   33   \n",
       "\n",
       "                              affiliate  points  weight lifted  \n",
       "2040                      CrossFit Zest     0.0     114.285714  \n",
       "7732    Golden Crown CrossFit Seodaemun     0.0      97.505669  \n",
       "19017                 CrossFit Geumchon     0.0      97.505669  \n",
       "73598                  CrossFit Calgary     0.0       0.000000  \n",
       "81080                    CrossFit Lagom     0.0       0.000000  \n",
       "86324                CrossFit East Oahu     0.0      66.666667  \n",
       "133060                              NaN     0.0       0.000000  "
      ]
     },
     "execution_count": 32,
     "metadata": {},
     "output_type": "execute_result"
    }
   ],
   "source": [
    "# Encontrando quem tem lastname nulo\n",
    "df_masc[pd.isna(df_masc['lastname'])]"
   ]
  },
  {
   "cell_type": "code",
   "execution_count": 33,
   "metadata": {},
   "outputs": [],
   "source": [
    "# Incluindo texto nos campos nulos de acordo com a coluna\n",
    "values = {'lastname': '-', 'first_name': '-', 'affiliate': 'not_affiliate'}\n",
    "df_masc.fillna(value = values, inplace=True) "
   ]
  },
  {
   "cell_type": "code",
   "execution_count": 34,
   "metadata": {},
   "outputs": [
    {
     "data": {
      "text/plain": [
       "first_name       0\n",
       "lastname         0\n",
       "country          0\n",
       "continent        0\n",
       "age              0\n",
       "affiliate        0\n",
       "points           0\n",
       "weight lifted    0\n",
       "dtype: int64"
      ]
     },
     "execution_count": 34,
     "metadata": {},
     "output_type": "execute_result"
    }
   ],
   "source": [
    "df_masc.isna().sum()\n",
    "# Nenhum valor null"
   ]
  },
  {
   "attachments": {},
   "cell_type": "markdown",
   "metadata": {},
   "source": [
    "## Análises"
   ]
  },
  {
   "attachments": {},
   "cell_type": "markdown",
   "metadata": {},
   "source": [
    "### Distribuição por país"
   ]
  },
  {
   "cell_type": "code",
   "execution_count": 35,
   "metadata": {},
   "outputs": [
    {
     "data": {
      "text/plain": [
       "United States     65145\n",
       "Australia          8206\n",
       "United Kingdom     6080\n",
       "France             6038\n",
       "Canada             5321\n",
       "                  ...  \n",
       "Dominica              1\n",
       "Laos                  1\n",
       "Somalia               1\n",
       "Djibouti              1\n",
       "Guinea                1\n",
       "Name: country, Length: 156, dtype: int64"
      ]
     },
     "execution_count": 35,
     "metadata": {},
     "output_type": "execute_result"
    }
   ],
   "source": [
    "# Quantos atletas há de cada país?\n",
    "df_masc.country.value_counts()"
   ]
  },
  {
   "cell_type": "code",
   "execution_count": 36,
   "metadata": {},
   "outputs": [
    {
     "data": {
      "text/plain": [
       "United States     0.473909\n",
       "Australia         0.059696\n",
       "United Kingdom    0.044230\n",
       "France            0.043925\n",
       "Canada            0.038709\n",
       "                    ...   \n",
       "Dominica          0.000007\n",
       "Laos              0.000007\n",
       "Somalia           0.000007\n",
       "Djibouti          0.000007\n",
       "Guinea            0.000007\n",
       "Name: country, Length: 156, dtype: float64"
      ]
     },
     "execution_count": 36,
     "metadata": {},
     "output_type": "execute_result"
    }
   ],
   "source": [
    "# Porcentagem de atletas de cada país\n",
    "df_masc.country.value_counts(normalize=True)"
   ]
  },
  {
   "attachments": {},
   "cell_type": "markdown",
   "metadata": {},
   "source": [
    "### Distribuição por continente"
   ]
  },
  {
   "cell_type": "code",
   "execution_count": 37,
   "metadata": {},
   "outputs": [
    {
     "data": {
      "text/plain": [
       "continent    \n",
       "North America    73659\n",
       "Europe           34317\n",
       "Oceania           9930\n",
       "Asia              8194\n",
       "South America     7076\n",
       "Africa            4287\n",
       "dtype: int64"
      ]
     },
     "execution_count": 37,
     "metadata": {},
     "output_type": "execute_result"
    }
   ],
   "source": [
    "# Quantos atletas há de cada continente?\n",
    "df_masc[['continent']].value_counts()"
   ]
  },
  {
   "cell_type": "code",
   "execution_count": 38,
   "metadata": {},
   "outputs": [
    {
     "data": {
      "text/plain": [
       "continent    \n",
       "North America    0.535846\n",
       "Europe           0.249645\n",
       "Oceania          0.072238\n",
       "Asia             0.059609\n",
       "South America    0.051476\n",
       "Africa           0.031187\n",
       "dtype: float64"
      ]
     },
     "execution_count": 38,
     "metadata": {},
     "output_type": "execute_result"
    }
   ],
   "source": [
    "# Porcentagem de atletas por continente\n",
    "df_masc[['continent']].value_counts(normalize=True)"
   ]
  },
  {
   "attachments": {},
   "cell_type": "markdown",
   "metadata": {},
   "source": [
    "### Distribuição de afiliados por continente "
   ]
  },
  {
   "cell_type": "code",
   "execution_count": 39,
   "metadata": {},
   "outputs": [
    {
     "data": {
      "text/plain": [
       "continent\n",
       "Africa            392\n",
       "Asia              931\n",
       "Europe           3735\n",
       "North America    5585\n",
       "Oceania           715\n",
       "South America     932\n",
       "Name: affiliate, dtype: int64"
      ]
     },
     "execution_count": 39,
     "metadata": {},
     "output_type": "execute_result"
    }
   ],
   "source": [
    "affiliate_continent = df_masc.groupby('continent')['affiliate'].nunique()\n",
    "affiliate_continent"
   ]
  },
  {
   "attachments": {},
   "cell_type": "markdown",
   "metadata": {},
   "source": [
    "### Distribuição de afiliados por país"
   ]
  },
  {
   "cell_type": "code",
   "execution_count": 40,
   "metadata": {},
   "outputs": [
    {
     "data": {
      "text/plain": [
       "country\n",
       "Afghanistan      3\n",
       "Albania          6\n",
       "Algeria         17\n",
       "Andorra          7\n",
       "Angola          13\n",
       "              ... \n",
       "Venezuela      136\n",
       "Viet Nam        12\n",
       "Yemen            4\n",
       "Zambia           5\n",
       "Zimbabwe        19\n",
       "Name: affiliate, Length: 156, dtype: int64"
      ]
     },
     "execution_count": 40,
     "metadata": {},
     "output_type": "execute_result"
    }
   ],
   "source": [
    "affiliate_country = df_masc.groupby('country')['affiliate'].nunique()\n",
    "affiliate_country"
   ]
  },
  {
   "attachments": {},
   "cell_type": "markdown",
   "metadata": {},
   "source": [
    "### Distribuição de atletas por idade"
   ]
  },
  {
   "cell_type": "code",
   "execution_count": 41,
   "metadata": {},
   "outputs": [
    {
     "data": {
      "text/plain": [
       "age\n",
       "31     6500\n",
       "32     6420\n",
       "30     6363\n",
       "33     6278\n",
       "29     6182\n",
       "34     6035\n",
       "35     5974\n",
       "36     5675\n",
       "28     5609\n",
       "37     5368\n",
       "38     5267\n",
       "27     5132\n",
       "39     4990\n",
       "40     4820\n",
       "26     4438\n",
       "41     4351\n",
       "42     3976\n",
       "25     3847\n",
       "43     3510\n",
       "44     3260\n",
       "24     3185\n",
       "45     3015\n",
       "46     2597\n",
       "23     2568\n",
       "47     2435\n",
       "48     2239\n",
       "49     2013\n",
       "22     1974\n",
       "50     1917\n",
       "51     1656\n",
       "21     1520\n",
       "52     1376\n",
       "20     1194\n",
       "53     1136\n",
       "17     1004\n",
       "54     1002\n",
       "18      889\n",
       "16      887\n",
       "19      861\n",
       "dtype: int64"
      ]
     },
     "execution_count": 41,
     "metadata": {},
     "output_type": "execute_result"
    }
   ],
   "source": [
    "athletes_age = df_masc[['age']].value_counts()\n",
    "athletes_age"
   ]
  },
  {
   "cell_type": "code",
   "execution_count": 42,
   "metadata": {},
   "outputs": [
    {
     "data": {
      "text/plain": [
       "54"
      ]
     },
     "execution_count": 42,
     "metadata": {},
     "output_type": "execute_result"
    }
   ],
   "source": [
    "max_age = df_masc['age'].max()\n",
    "max_age"
   ]
  },
  {
   "cell_type": "code",
   "execution_count": 43,
   "metadata": {},
   "outputs": [
    {
     "data": {
      "text/plain": [
       "16"
      ]
     },
     "execution_count": 43,
     "metadata": {},
     "output_type": "execute_result"
    }
   ],
   "source": [
    "min_age = df_masc['age'].min()\n",
    "min_age"
   ]
  },
  {
   "cell_type": "code",
   "execution_count": 44,
   "metadata": {},
   "outputs": [
    {
     "data": {
      "text/html": [
       "<div>\n",
       "<style scoped>\n",
       "    .dataframe tbody tr th:only-of-type {\n",
       "        vertical-align: middle;\n",
       "    }\n",
       "\n",
       "    .dataframe tbody tr th {\n",
       "        vertical-align: top;\n",
       "    }\n",
       "\n",
       "    .dataframe thead th {\n",
       "        text-align: right;\n",
       "    }\n",
       "</style>\n",
       "<table border=\"1\" class=\"dataframe\">\n",
       "  <thead>\n",
       "    <tr style=\"text-align: right;\">\n",
       "      <th></th>\n",
       "      <th>first_name</th>\n",
       "      <th>lastname</th>\n",
       "      <th>country</th>\n",
       "      <th>continent</th>\n",
       "      <th>age</th>\n",
       "      <th>affiliate</th>\n",
       "      <th>points</th>\n",
       "      <th>weight lifted</th>\n",
       "    </tr>\n",
       "  </thead>\n",
       "  <tbody>\n",
       "    <tr>\n",
       "      <th>0</th>\n",
       "      <td>JEFFRE</td>\n",
       "      <td>ADLER</td>\n",
       "      <td>Canada</td>\n",
       "      <td>North America</td>\n",
       "      <td>27</td>\n",
       "      <td>CrossFit Wonderland</td>\n",
       "      <td>0.0</td>\n",
       "      <td>143.764172</td>\n",
       "    </tr>\n",
       "    <tr>\n",
       "      <th>1</th>\n",
       "      <td>SCOTT</td>\n",
       "      <td>PANCHIK</td>\n",
       "      <td>United States</td>\n",
       "      <td>North America</td>\n",
       "      <td>33</td>\n",
       "      <td>CrossFit Mentality</td>\n",
       "      <td>0.0</td>\n",
       "      <td>143.310658</td>\n",
       "    </tr>\n",
       "    <tr>\n",
       "      <th>2</th>\n",
       "      <td>TRAVIS</td>\n",
       "      <td>MEAD</td>\n",
       "      <td>United States</td>\n",
       "      <td>North America</td>\n",
       "      <td>34</td>\n",
       "      <td>Iron Valley CrossFit</td>\n",
       "      <td>0.0</td>\n",
       "      <td>156.462585</td>\n",
       "    </tr>\n",
       "    <tr>\n",
       "      <th>3</th>\n",
       "      <td>SAXON</td>\n",
       "      <td>PANCHIK</td>\n",
       "      <td>United States</td>\n",
       "      <td>North America</td>\n",
       "      <td>25</td>\n",
       "      <td>CrossFit Cliffside</td>\n",
       "      <td>0.0</td>\n",
       "      <td>143.310658</td>\n",
       "    </tr>\n",
       "    <tr>\n",
       "      <th>4</th>\n",
       "      <td>RICHARD</td>\n",
       "      <td>FRONING JR.</td>\n",
       "      <td>United States</td>\n",
       "      <td>North America</td>\n",
       "      <td>33</td>\n",
       "      <td>CrossFit Mayhem</td>\n",
       "      <td>0.0</td>\n",
       "      <td>141.496599</td>\n",
       "    </tr>\n",
       "    <tr>\n",
       "      <th>5</th>\n",
       "      <td>NOAH</td>\n",
       "      <td>OHLSEN</td>\n",
       "      <td>United States</td>\n",
       "      <td>North America</td>\n",
       "      <td>30</td>\n",
       "      <td>Peak 360 CrossFit</td>\n",
       "      <td>0.0</td>\n",
       "      <td>136.507937</td>\n",
       "    </tr>\n",
       "    <tr>\n",
       "      <th>6</th>\n",
       "      <td>SAMUEL</td>\n",
       "      <td>COURNOYER</td>\n",
       "      <td>Canada</td>\n",
       "      <td>North America</td>\n",
       "      <td>25</td>\n",
       "      <td>CrossFit Mayhem</td>\n",
       "      <td>0.0</td>\n",
       "      <td>148.752834</td>\n",
       "    </tr>\n",
       "    <tr>\n",
       "      <th>7</th>\n",
       "      <td>COLE</td>\n",
       "      <td>GREASHABER</td>\n",
       "      <td>United States</td>\n",
       "      <td>North America</td>\n",
       "      <td>21</td>\n",
       "      <td>CrossFit Lee's Summit (LS)</td>\n",
       "      <td>0.0</td>\n",
       "      <td>137.414966</td>\n",
       "    </tr>\n",
       "    <tr>\n",
       "      <th>8</th>\n",
       "      <td>AGUSTIN</td>\n",
       "      <td>RICHELME</td>\n",
       "      <td>Argentina</td>\n",
       "      <td>South America</td>\n",
       "      <td>24</td>\n",
       "      <td>not_affiliate</td>\n",
       "      <td>0.0</td>\n",
       "      <td>136.054422</td>\n",
       "    </tr>\n",
       "    <tr>\n",
       "      <th>9</th>\n",
       "      <td>OLEG</td>\n",
       "      <td>LASCENKO</td>\n",
       "      <td>United Kingdom</td>\n",
       "      <td>Europe</td>\n",
       "      <td>23</td>\n",
       "      <td>CrossFit Abu Dhabi</td>\n",
       "      <td>0.0</td>\n",
       "      <td>136.054422</td>\n",
       "    </tr>\n",
       "  </tbody>\n",
       "</table>\n",
       "</div>"
      ],
      "text/plain": [
       "  first_name     lastname         country      continent  age  \\\n",
       "0     JEFFRE        ADLER          Canada  North America   27   \n",
       "1      SCOTT      PANCHIK   United States  North America   33   \n",
       "2     TRAVIS         MEAD   United States  North America   34   \n",
       "3      SAXON      PANCHIK   United States  North America   25   \n",
       "4    RICHARD  FRONING JR.   United States  North America   33   \n",
       "5       NOAH       OHLSEN   United States  North America   30   \n",
       "6     SAMUEL    COURNOYER          Canada  North America   25   \n",
       "7       COLE   GREASHABER   United States  North America   21   \n",
       "8    AGUSTIN     RICHELME       Argentina  South America   24   \n",
       "9       OLEG     LASCENKO  United Kingdom         Europe   23   \n",
       "\n",
       "                    affiliate  points  weight lifted  \n",
       "0         CrossFit Wonderland     0.0     143.764172  \n",
       "1          CrossFit Mentality     0.0     143.310658  \n",
       "2        Iron Valley CrossFit     0.0     156.462585  \n",
       "3          CrossFit Cliffside     0.0     143.310658  \n",
       "4             CrossFit Mayhem     0.0     141.496599  \n",
       "5           Peak 360 CrossFit     0.0     136.507937  \n",
       "6             CrossFit Mayhem     0.0     148.752834  \n",
       "7  CrossFit Lee's Summit (LS)     0.0     137.414966  \n",
       "8               not_affiliate     0.0     136.054422  \n",
       "9          CrossFit Abu Dhabi     0.0     136.054422  "
      ]
     },
     "execution_count": 44,
     "metadata": {},
     "output_type": "execute_result"
    }
   ],
   "source": [
    "df_masc.head(10)"
   ]
  },
  {
   "attachments": {},
   "cell_type": "markdown",
   "metadata": {},
   "source": [
    "### Distribuição de pontos por idade"
   ]
  },
  {
   "cell_type": "code",
   "execution_count": 45,
   "metadata": {},
   "outputs": [
    {
     "name": "stdout",
     "output_type": "stream",
     "text": [
      "Menor idade:  16\n",
      "Maior idade:  54\n"
     ]
    }
   ],
   "source": [
    "# Separando faixas de idade\n",
    "print(\"Menor idade: \", df_masc.age.min())\n",
    "print(\"Maior idade: \", df_masc.age.max())"
   ]
  },
  {
   "cell_type": "code",
   "execution_count": 46,
   "metadata": {},
   "outputs": [],
   "source": [
    "# Média de pontos por idade ou por faixa de idade\n",
    "classes = [\n",
    "    (df_masc['age']< 20),\n",
    "    (df_masc['age']>= 20) & (df_masc['age']< 24),\n",
    "    (df_masc['age']>= 24) & (df_masc['age']< 28),\n",
    "    (df_masc['age']>= 28) & (df_masc['age']< 32),\n",
    "    (df_masc['age']>= 32) & (df_masc['age']< 36),\n",
    "    (df_masc['age']>= 40) & (df_masc['age']< 44),\n",
    "    (df_masc['age']>= 44) & (df_masc['age']< 48),\n",
    "    (df_masc['age']>= 48) & (df_masc['age']< 52),\n",
    "    (df_masc['age']>= 52)\n",
    "]\n",
    "\n",
    "faixa_etaria = ['sub-20', '20-23', '24-27', '28-31', '32-35', '36-43', '44-47', '48-51', '52+']\n",
    "df_masc['faixa_etaria'] = np.select(classes, faixa_etaria, default=np.nan)"
   ]
  },
  {
   "cell_type": "code",
   "execution_count": 47,
   "metadata": {},
   "outputs": [
    {
     "data": {
      "text/html": [
       "<div>\n",
       "<style scoped>\n",
       "    .dataframe tbody tr th:only-of-type {\n",
       "        vertical-align: middle;\n",
       "    }\n",
       "\n",
       "    .dataframe tbody tr th {\n",
       "        vertical-align: top;\n",
       "    }\n",
       "\n",
       "    .dataframe thead th {\n",
       "        text-align: right;\n",
       "    }\n",
       "</style>\n",
       "<table border=\"1\" class=\"dataframe\">\n",
       "  <thead>\n",
       "    <tr style=\"text-align: right;\">\n",
       "      <th></th>\n",
       "      <th>first_name</th>\n",
       "      <th>lastname</th>\n",
       "      <th>country</th>\n",
       "      <th>continent</th>\n",
       "      <th>age</th>\n",
       "      <th>affiliate</th>\n",
       "      <th>points</th>\n",
       "      <th>weight lifted</th>\n",
       "      <th>faixa_etaria</th>\n",
       "    </tr>\n",
       "  </thead>\n",
       "  <tbody>\n",
       "    <tr>\n",
       "      <th>0</th>\n",
       "      <td>JEFFRE</td>\n",
       "      <td>ADLER</td>\n",
       "      <td>Canada</td>\n",
       "      <td>North America</td>\n",
       "      <td>27</td>\n",
       "      <td>CrossFit Wonderland</td>\n",
       "      <td>0.0</td>\n",
       "      <td>143.764172</td>\n",
       "      <td>24-27</td>\n",
       "    </tr>\n",
       "    <tr>\n",
       "      <th>1</th>\n",
       "      <td>SCOTT</td>\n",
       "      <td>PANCHIK</td>\n",
       "      <td>United States</td>\n",
       "      <td>North America</td>\n",
       "      <td>33</td>\n",
       "      <td>CrossFit Mentality</td>\n",
       "      <td>0.0</td>\n",
       "      <td>143.310658</td>\n",
       "      <td>32-35</td>\n",
       "    </tr>\n",
       "    <tr>\n",
       "      <th>2</th>\n",
       "      <td>TRAVIS</td>\n",
       "      <td>MEAD</td>\n",
       "      <td>United States</td>\n",
       "      <td>North America</td>\n",
       "      <td>34</td>\n",
       "      <td>Iron Valley CrossFit</td>\n",
       "      <td>0.0</td>\n",
       "      <td>156.462585</td>\n",
       "      <td>32-35</td>\n",
       "    </tr>\n",
       "    <tr>\n",
       "      <th>3</th>\n",
       "      <td>SAXON</td>\n",
       "      <td>PANCHIK</td>\n",
       "      <td>United States</td>\n",
       "      <td>North America</td>\n",
       "      <td>25</td>\n",
       "      <td>CrossFit Cliffside</td>\n",
       "      <td>0.0</td>\n",
       "      <td>143.310658</td>\n",
       "      <td>24-27</td>\n",
       "    </tr>\n",
       "    <tr>\n",
       "      <th>4</th>\n",
       "      <td>RICHARD</td>\n",
       "      <td>FRONING JR.</td>\n",
       "      <td>United States</td>\n",
       "      <td>North America</td>\n",
       "      <td>33</td>\n",
       "      <td>CrossFit Mayhem</td>\n",
       "      <td>0.0</td>\n",
       "      <td>141.496599</td>\n",
       "      <td>32-35</td>\n",
       "    </tr>\n",
       "  </tbody>\n",
       "</table>\n",
       "</div>"
      ],
      "text/plain": [
       "  first_name     lastname        country      continent  age  \\\n",
       "0     JEFFRE        ADLER         Canada  North America   27   \n",
       "1      SCOTT      PANCHIK  United States  North America   33   \n",
       "2     TRAVIS         MEAD  United States  North America   34   \n",
       "3      SAXON      PANCHIK  United States  North America   25   \n",
       "4    RICHARD  FRONING JR.  United States  North America   33   \n",
       "\n",
       "              affiliate  points  weight lifted faixa_etaria  \n",
       "0   CrossFit Wonderland     0.0     143.764172        24-27  \n",
       "1    CrossFit Mentality     0.0     143.310658        32-35  \n",
       "2  Iron Valley CrossFit     0.0     156.462585        32-35  \n",
       "3    CrossFit Cliffside     0.0     143.310658        24-27  \n",
       "4       CrossFit Mayhem     0.0     141.496599        32-35  "
      ]
     },
     "execution_count": 47,
     "metadata": {},
     "output_type": "execute_result"
    }
   ],
   "source": [
    "df_masc.head()"
   ]
  },
  {
   "cell_type": "code",
   "execution_count": 48,
   "metadata": {},
   "outputs": [
    {
     "data": {
      "text/plain": [
       "32-35     24707\n",
       "28-31     24654\n",
       "nan       21300\n",
       "36-43     16657\n",
       "24-27     16602\n",
       "44-47     11307\n",
       "48-51      7825\n",
       "20-23      7256\n",
       "sub-20     3641\n",
       "52+        3514\n",
       "Name: faixa_etaria, dtype: int64"
      ]
     },
     "execution_count": 48,
     "metadata": {},
     "output_type": "execute_result"
    }
   ],
   "source": [
    "# Quantidade de atletas por faixa-etária\n",
    "df_masc['faixa_etaria'].value_counts()"
   ]
  },
  {
   "cell_type": "code",
   "execution_count": 49,
   "metadata": {},
   "outputs": [],
   "source": [
    "import matplotlib.pyplot as plt "
   ]
  },
  {
   "cell_type": "code",
   "execution_count": 50,
   "metadata": {},
   "outputs": [
    {
     "data": {
      "image/png": "[encoded data removed]",
      "text/plain": [
       "<Figure size 432x288 with 1 Axes>"
      ]
     },
     "metadata": {
      "needs_background": "light"
     },
     "output_type": "display_data"
    }
   ],
   "source": [
    "# Distribuição de atletas por idade\n",
    "plt.hist(df_masc['age'], 30)\n",
    "plt.axvline(df_masc['age'].mean(), color='k', linestyle='dashed', linewidth=2)\n",
    "plt.axvline(df_masc['age'].median(), color='y', linestyle='dashed', linewidth=2)\n",
    "plt.show()"
   ]
  },
  {
   "cell_type": "code",
   "execution_count": 51,
   "metadata": {},
   "outputs": [
    {
     "name": "stderr",
     "output_type": "stream",
     "text": [
      "/home/dhenifer/.local/lib/python3.8/site-packages/tqdm/auto.py:22: TqdmWarning: IProgress not found. Please update jupyter and ipywidgets. See https://ipywidgets.readthedocs.io/en/stable/user_install.html\n",
      "  from .autonotebook import tqdm as notebook_tqdm\n"
     ]
    }
   ],
   "source": [
    "import sweetviz as sv"
   ]
  },
  {
   "cell_type": "code",
   "execution_count": 53,
   "metadata": {},
   "outputs": [
    {
     "name": "stderr",
     "output_type": "stream",
     "text": [
      "/home/dhenifer/.local/lib/python3.8/site-packages/sweetviz/dataframe_report.py:74: FutureWarning: iteritems is deprecated and will be removed in a future version. Use .items instead.\n",
      "  all_source_names = [cur_name for cur_name, cur_series in source_df.iteritems()]\n",
      "/home/dhenifer/.local/lib/python3.8/site-packages/sweetviz/dataframe_report.py:109: FutureWarning: iteritems is deprecated and will be removed in a future version. Use .items instead.\n",
      "  filtered_series_names_in_source = [cur_name for cur_name, cur_series in source_df.iteritems()\n",
      "Feature: first_name                          |█         | [ 10%]   00:00 -> (00:01 left)/home/dhenifer/.local/lib/python3.8/site-packages/sweetviz/series_analyzer_text.py:19: FutureWarning: iteritems is deprecated and will be removed in a future version. Use .items instead.\n",
      "  for item in to_process.source_counts[\"value_counts_without_nan\"].iteritems():\n",
      "Feature: lastname                            |██        | [ 20%]   00:00 -> (00:01 left)/home/dhenifer/.local/lib/python3.8/site-packages/sweetviz/series_analyzer_text.py:19: FutureWarning: iteritems is deprecated and will be removed in a future version. Use .items instead.\n",
      "  for item in to_process.source_counts[\"value_counts_without_nan\"].iteritems():\n",
      "Feature: country                             |███       | [ 30%]   00:00 -> (00:02 left)/home/dhenifer/.local/lib/python3.8/site-packages/sweetviz/series_analyzer_text.py:19: FutureWarning: iteritems is deprecated and will be removed in a future version. Use .items instead.\n",
      "  for item in to_process.source_counts[\"value_counts_without_nan\"].iteritems():\n",
      "Feature: continent                           |████      | [ 40%]   00:00 -> (00:02 left)/home/dhenifer/.local/lib/python3.8/site-packages/sweetviz/series_analyzer_cat.py:28: FutureWarning: iteritems is deprecated and will be removed in a future version. Use .items instead.\n",
      "  for item in category_counts.iteritems():\n",
      "Feature: age                                 |█████     | [ 50%]   00:01 -> (00:00 left)/home/dhenifer/.local/lib/python3.8/site-packages/sweetviz/series_analyzer_numeric.py:25: FutureWarning: The 'mad' method is deprecated and will be removed in a future version. To compute the same result, you may do `(df - df.mean()).abs().mean()`.\n",
      "  stats[\"mad\"] = series.mad()\n",
      "Feature: affiliate                           |██████    | [ 60%]   00:01 -> (00:01 left)/home/dhenifer/.local/lib/python3.8/site-packages/sweetviz/series_analyzer_text.py:19: FutureWarning: iteritems is deprecated and will be removed in a future version. Use .items instead.\n",
      "  for item in to_process.source_counts[\"value_counts_without_nan\"].iteritems():\n",
      "Feature: points                              |███████   | [ 70%]   00:01 -> (00:00 left)/home/dhenifer/.local/lib/python3.8/site-packages/sweetviz/series_analyzer_cat.py:28: FutureWarning: iteritems is deprecated and will be removed in a future version. Use .items instead.\n",
      "  for item in category_counts.iteritems():\n",
      "Feature: weight lifted                       |████████  | [ 80%]   00:01 -> (00:00 left)/home/dhenifer/.local/lib/python3.8/site-packages/sweetviz/series_analyzer_numeric.py:25: FutureWarning: The 'mad' method is deprecated and will be removed in a future version. To compute the same result, you may do `(df - df.mean()).abs().mean()`.\n",
      "  stats[\"mad\"] = series.mad()\n",
      "Feature: faixa_etaria                        |█████████ | [ 90%]   00:02 -> (00:00 left)/home/dhenifer/.local/lib/python3.8/site-packages/sweetviz/series_analyzer_cat.py:28: FutureWarning: iteritems is deprecated and will be removed in a future version. Use .items instead.\n",
      "  for item in category_counts.iteritems():\n",
      "Done! Use 'show' commands to display/save.   |██████████| [100%]   00:00 -> (00:00 left)\n"
     ]
    },
    {
     "data": {
      "text/plain": [
       "<sweetviz.dataframe_report.DataframeReport at 0x7f55b9aae670>"
      ]
     },
     "execution_count": 53,
     "metadata": {},
     "output_type": "execute_result"
    }
   ],
   "source": [
    "my_report = sv.analyze(df_masc)\n",
    "my_report"
   ]
  }
 ],
 "metadata": {
  "kernelspec": {
   "display_name": "Python 3",
   "language": "python",
   "name": "python3"
  },
  "language_info": {
   "codemirror_mode": {
    "name": "ipython",
    "version": 3
   },
   "file_extension": ".py",
   "mimetype": "text/x-python",
   "name": "python",
   "nbconvert_exporter": "python",
   "pygments_lexer": "ipython3",
   "version": "3.8.10"
  },
  "orig_nbformat": 4,
  "vscode": {
   "interpreter": {
    "hash": "916dbcbb3f70747c44a77c7bcd40155683ae19c65e1c03b4aa3499c5328201f1"
   }
  }
 },
 "nbformat": 4,
 "nbformat_minor": 2
}
