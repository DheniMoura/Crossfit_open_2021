{
 "cells": [
  {
   "cell_type": "code",
   "execution_count": 1,
   "metadata": {},
   "outputs": [],
   "source": [
    "import pandas as pd\n"
   ]
  },
  {
   "cell_type": "code",
   "execution_count": 4,
   "metadata": {},
   "outputs": [],
   "source": [
    "open_masc = pd.read_csv('data/men_main_21.1.csv', sep=',', low_memory=False)"
   ]
  },
  {
   "cell_type": "code",
   "execution_count": 5,
   "metadata": {},
   "outputs": [
    {
     "data": {
      "text/html": [
       "<div>\n",
       "<style scoped>\n",
       "    .dataframe tbody tr th:only-of-type {\n",
       "        vertical-align: middle;\n",
       "    }\n",
       "\n",
       "    .dataframe tbody tr th {\n",
       "        vertical-align: top;\n",
       "    }\n",
       "\n",
       "    .dataframe thead th {\n",
       "        text-align: right;\n",
       "    }\n",
       "</style>\n",
       "<table border=\"1\" class=\"dataframe\">\n",
       "  <thead>\n",
       "    <tr style=\"text-align: right;\">\n",
       "      <th></th>\n",
       "      <th>Unnamed: 0</th>\n",
       "      <th>first_name</th>\n",
       "      <th>lastname</th>\n",
       "      <th>Placing</th>\n",
       "      <th>country</th>\n",
       "      <th>continent</th>\n",
       "      <th>Age</th>\n",
       "      <th>affiliate</th>\n",
       "      <th>Height and Weight</th>\n",
       "      <th>points</th>\n",
       "      <th>21.1</th>\n",
       "      <th>21.1 time</th>\n",
       "      <th>21.2</th>\n",
       "      <th>21.2 time</th>\n",
       "      <th>21.3</th>\n",
       "      <th>21.3 time</th>\n",
       "      <th>21.4</th>\n",
       "      <th>weight</th>\n",
       "      <th>Unnamed: 18</th>\n",
       "    </tr>\n",
       "  </thead>\n",
       "  <tbody>\n",
       "    <tr>\n",
       "      <th>0</th>\n",
       "      <td>0</td>\n",
       "      <td>JEFFRE</td>\n",
       "      <td>ADLER</td>\n",
       "      <td>1</td>\n",
       "      <td>Canada</td>\n",
       "      <td>North America</td>\n",
       "      <td>Age 27</td>\n",
       "      <td>CrossFit Wonderland</td>\n",
       "      <td>69 in | 197 lb</td>\n",
       "      <td>101.0</td>\n",
       "      <td>20th (11:55)</td>\n",
       "      <td>605 reps</td>\n",
       "      <td>8th (9:14)</td>\n",
       "      <td>225 reps</td>\n",
       "      <td>27th (8:15)</td>\n",
       "      <td>180 reps</td>\n",
       "      <td>46th (317 lbs)</td>\n",
       "      <td>Weight lifted: 317 lbs.</td>\n",
       "      <td>NaN</td>\n",
       "    </tr>\n",
       "    <tr>\n",
       "      <th>1</th>\n",
       "      <td>1</td>\n",
       "      <td>SCOTT</td>\n",
       "      <td>PANCHIK</td>\n",
       "      <td>2</td>\n",
       "      <td>United States</td>\n",
       "      <td>North America</td>\n",
       "      <td>Age 33</td>\n",
       "      <td>CrossFit Mentality</td>\n",
       "      <td>69 in | 187 lb</td>\n",
       "      <td>141.0</td>\n",
       "      <td>33rd (12:25)</td>\n",
       "      <td>605 reps</td>\n",
       "      <td>47th (9:52)</td>\n",
       "      <td>225 reps</td>\n",
       "      <td>5th (7:48)</td>\n",
       "      <td>180 reps</td>\n",
       "      <td>56th (316 lbs)</td>\n",
       "      <td>Weight lifted: 316 lbs.</td>\n",
       "      <td>NaN</td>\n",
       "    </tr>\n",
       "    <tr>\n",
       "      <th>2</th>\n",
       "      <td>2</td>\n",
       "      <td>TRAVIS</td>\n",
       "      <td>MEAD</td>\n",
       "      <td>3</td>\n",
       "      <td>United States</td>\n",
       "      <td>North America</td>\n",
       "      <td>Age 34</td>\n",
       "      <td>Iron Valley CrossFit</td>\n",
       "      <td>73 in | 205 lb</td>\n",
       "      <td>165.0</td>\n",
       "      <td>87th (13:02)</td>\n",
       "      <td>605 reps</td>\n",
       "      <td>24th (9:38)</td>\n",
       "      <td>225 reps</td>\n",
       "      <td>48th (8:26)</td>\n",
       "      <td>180 reps</td>\n",
       "      <td>6th (345 lbs)</td>\n",
       "      <td>Weight lifted: 345 lbs.</td>\n",
       "      <td>NaN</td>\n",
       "    </tr>\n",
       "    <tr>\n",
       "      <th>3</th>\n",
       "      <td>3</td>\n",
       "      <td>SAXON</td>\n",
       "      <td>PANCHIK</td>\n",
       "      <td>4</td>\n",
       "      <td>United States</td>\n",
       "      <td>North America</td>\n",
       "      <td>Age 25</td>\n",
       "      <td>CrossFit Cliffside</td>\n",
       "      <td>69 in | 180 lb</td>\n",
       "      <td>217.0</td>\n",
       "      <td>5th (11:25)</td>\n",
       "      <td>605 reps</td>\n",
       "      <td>68th (9:59)</td>\n",
       "      <td>225 reps</td>\n",
       "      <td>87th (8:41)</td>\n",
       "      <td>180 reps</td>\n",
       "      <td>57th (316 lbs)</td>\n",
       "      <td>Weight lifted: 316 lbs.</td>\n",
       "      <td>NaN</td>\n",
       "    </tr>\n",
       "    <tr>\n",
       "      <th>4</th>\n",
       "      <td>4</td>\n",
       "      <td>RICHARD</td>\n",
       "      <td>FRONING JR.</td>\n",
       "      <td>5</td>\n",
       "      <td>United States</td>\n",
       "      <td>North America</td>\n",
       "      <td>Age 33</td>\n",
       "      <td>CrossFit Mayhem</td>\n",
       "      <td>69 in | 194 lb</td>\n",
       "      <td>254.0</td>\n",
       "      <td>58th (12:45)</td>\n",
       "      <td>605 reps</td>\n",
       "      <td>91st (10:04)</td>\n",
       "      <td>225 reps</td>\n",
       "      <td>5th (7:48)</td>\n",
       "      <td>180 reps</td>\n",
       "      <td>100th (312 lbs)</td>\n",
       "      <td>Weight lifted: 312 lbs.</td>\n",
       "      <td>NaN</td>\n",
       "    </tr>\n",
       "  </tbody>\n",
       "</table>\n",
       "</div>"
      ],
      "text/plain": [
       "   Unnamed: 0 first_name     lastname Placing        country      continent  \\\n",
       "0           0     JEFFRE        ADLER       1         Canada  North America   \n",
       "1           1      SCOTT      PANCHIK       2  United States  North America   \n",
       "2           2     TRAVIS         MEAD       3  United States  North America   \n",
       "3           3      SAXON      PANCHIK       4  United States  North America   \n",
       "4           4    RICHARD  FRONING JR.       5  United States  North America   \n",
       "\n",
       "      Age             affiliate Height and Weight  points          21.1  \\\n",
       "0  Age 27   CrossFit Wonderland    69 in | 197 lb   101.0  20th (11:55)   \n",
       "1  Age 33    CrossFit Mentality    69 in | 187 lb   141.0  33rd (12:25)   \n",
       "2  Age 34  Iron Valley CrossFit    73 in | 205 lb   165.0  87th (13:02)   \n",
       "3  Age 25    CrossFit Cliffside    69 in | 180 lb   217.0   5th (11:25)   \n",
       "4  Age 33       CrossFit Mayhem    69 in | 194 lb   254.0  58th (12:45)   \n",
       "\n",
       "  21.1 time          21.2 21.2 time         21.3 21.3 time             21.4  \\\n",
       "0  605 reps    8th (9:14)  225 reps  27th (8:15)  180 reps   46th (317 lbs)   \n",
       "1  605 reps   47th (9:52)  225 reps   5th (7:48)  180 reps   56th (316 lbs)   \n",
       "2  605 reps   24th (9:38)  225 reps  48th (8:26)  180 reps    6th (345 lbs)   \n",
       "3  605 reps   68th (9:59)  225 reps  87th (8:41)  180 reps   57th (316 lbs)   \n",
       "4  605 reps  91st (10:04)  225 reps   5th (7:48)  180 reps  100th (312 lbs)   \n",
       "\n",
       "                    weight Unnamed: 18  \n",
       "0  Weight lifted: 317 lbs.         NaN  \n",
       "1  Weight lifted: 316 lbs.         NaN  \n",
       "2  Weight lifted: 345 lbs.         NaN  \n",
       "3  Weight lifted: 316 lbs.         NaN  \n",
       "4  Weight lifted: 312 lbs.         NaN  "
      ]
     },
     "execution_count": 5,
     "metadata": {},
     "output_type": "execute_result"
    }
   ],
   "source": [
    "open_masc.head()"
   ]
  },
  {
   "cell_type": "code",
   "execution_count": 7,
   "metadata": {},
   "outputs": [
    {
     "data": {
      "text/plain": [
       "Index(['Unnamed: 0', 'first_name', 'lastname', 'Placing', 'country',\n",
       "       'continent', 'Age', 'affiliate', 'Height and Weight', 'points', '21.1',\n",
       "       '21.1 time', '21.2', '21.2 time', '21.3', '21.3 time', '21.4', 'weight',\n",
       "       'Unnamed: 18'],\n",
       "      dtype='object')"
      ]
     },
     "execution_count": 7,
     "metadata": {},
     "output_type": "execute_result"
    }
   ],
   "source": [
    "open_masc.columns"
   ]
  },
  {
   "cell_type": "code",
   "execution_count": 8,
   "metadata": {},
   "outputs": [
    {
     "ename": "KeyError",
     "evalue": "('21.2', 'Age', 'first_name')",
     "output_type": "error",
     "traceback": [
      "\u001b[0;31m---------------------------------------------------------------------------\u001b[0m",
      "\u001b[0;31mKeyError\u001b[0m                                  Traceback (most recent call last)",
      "File \u001b[0;32m~/.local/lib/python3.8/site-packages/pandas/core/indexes/base.py:3621\u001b[0m, in \u001b[0;36mIndex.get_loc\u001b[0;34m(self, key, method, tolerance)\u001b[0m\n\u001b[1;32m   3620\u001b[0m \u001b[39mtry\u001b[39;00m:\n\u001b[0;32m-> 3621\u001b[0m     \u001b[39mreturn\u001b[39;00m \u001b[39mself\u001b[39;49m\u001b[39m.\u001b[39;49m_engine\u001b[39m.\u001b[39;49mget_loc(casted_key)\n\u001b[1;32m   3622\u001b[0m \u001b[39mexcept\u001b[39;00m \u001b[39mKeyError\u001b[39;00m \u001b[39mas\u001b[39;00m err:\n",
      "File \u001b[0;32m~/.local/lib/python3.8/site-packages/pandas/_libs/index.pyx:136\u001b[0m, in \u001b[0;36mpandas._libs.index.IndexEngine.get_loc\u001b[0;34m()\u001b[0m\n",
      "File \u001b[0;32m~/.local/lib/python3.8/site-packages/pandas/_libs/index.pyx:163\u001b[0m, in \u001b[0;36mpandas._libs.index.IndexEngine.get_loc\u001b[0;34m()\u001b[0m\n",
      "File \u001b[0;32mpandas/_libs/hashtable_class_helper.pxi:5198\u001b[0m, in \u001b[0;36mpandas._libs.hashtable.PyObjectHashTable.get_item\u001b[0;34m()\u001b[0m\n",
      "File \u001b[0;32mpandas/_libs/hashtable_class_helper.pxi:5206\u001b[0m, in \u001b[0;36mpandas._libs.hashtable.PyObjectHashTable.get_item\u001b[0;34m()\u001b[0m\n",
      "\u001b[0;31mKeyError\u001b[0m: ('21.2', 'Age', 'first_name')",
      "\nThe above exception was the direct cause of the following exception:\n",
      "\u001b[0;31mKeyError\u001b[0m                                  Traceback (most recent call last)",
      "\u001b[1;32m/home/dhenifer/Documentos/Meus_Projetos/portfolio/Crossfit_open_2021/male.ipynb Célula 5\u001b[0m in \u001b[0;36m<cell line: 1>\u001b[0;34m()\u001b[0m\n\u001b[0;32m----> <a href='vscode-notebook-cell:/home/dhenifer/Documentos/Meus_Projetos/portfolio/Crossfit_open_2021/male.ipynb#W4sZmlsZQ%3D%3D?line=0'>1</a>\u001b[0m display(open_masc[\u001b[39m'\u001b[39;49m\u001b[39m21.2\u001b[39;49m\u001b[39m'\u001b[39;49m, \u001b[39m'\u001b[39;49m\u001b[39mAge\u001b[39;49m\u001b[39m'\u001b[39;49m, \u001b[39m'\u001b[39;49m\u001b[39mfirst_name\u001b[39;49m\u001b[39m'\u001b[39;49m])\n",
      "File \u001b[0;32m~/.local/lib/python3.8/site-packages/pandas/core/frame.py:3505\u001b[0m, in \u001b[0;36mDataFrame.__getitem__\u001b[0;34m(self, key)\u001b[0m\n\u001b[1;32m   3503\u001b[0m \u001b[39mif\u001b[39;00m \u001b[39mself\u001b[39m\u001b[39m.\u001b[39mcolumns\u001b[39m.\u001b[39mnlevels \u001b[39m>\u001b[39m \u001b[39m1\u001b[39m:\n\u001b[1;32m   3504\u001b[0m     \u001b[39mreturn\u001b[39;00m \u001b[39mself\u001b[39m\u001b[39m.\u001b[39m_getitem_multilevel(key)\n\u001b[0;32m-> 3505\u001b[0m indexer \u001b[39m=\u001b[39m \u001b[39mself\u001b[39;49m\u001b[39m.\u001b[39;49mcolumns\u001b[39m.\u001b[39;49mget_loc(key)\n\u001b[1;32m   3506\u001b[0m \u001b[39mif\u001b[39;00m is_integer(indexer):\n\u001b[1;32m   3507\u001b[0m     indexer \u001b[39m=\u001b[39m [indexer]\n",
      "File \u001b[0;32m~/.local/lib/python3.8/site-packages/pandas/core/indexes/base.py:3623\u001b[0m, in \u001b[0;36mIndex.get_loc\u001b[0;34m(self, key, method, tolerance)\u001b[0m\n\u001b[1;32m   3621\u001b[0m     \u001b[39mreturn\u001b[39;00m \u001b[39mself\u001b[39m\u001b[39m.\u001b[39m_engine\u001b[39m.\u001b[39mget_loc(casted_key)\n\u001b[1;32m   3622\u001b[0m \u001b[39mexcept\u001b[39;00m \u001b[39mKeyError\u001b[39;00m \u001b[39mas\u001b[39;00m err:\n\u001b[0;32m-> 3623\u001b[0m     \u001b[39mraise\u001b[39;00m \u001b[39mKeyError\u001b[39;00m(key) \u001b[39mfrom\u001b[39;00m \u001b[39merr\u001b[39;00m\n\u001b[1;32m   3624\u001b[0m \u001b[39mexcept\u001b[39;00m \u001b[39mTypeError\u001b[39;00m:\n\u001b[1;32m   3625\u001b[0m     \u001b[39m# If we have a listlike key, _check_indexing_error will raise\u001b[39;00m\n\u001b[1;32m   3626\u001b[0m     \u001b[39m#  InvalidIndexError. Otherwise we fall through and re-raise\u001b[39;00m\n\u001b[1;32m   3627\u001b[0m     \u001b[39m#  the TypeError.\u001b[39;00m\n\u001b[1;32m   3628\u001b[0m     \u001b[39mself\u001b[39m\u001b[39m.\u001b[39m_check_indexing_error(key)\n",
      "\u001b[0;31mKeyError\u001b[0m: ('21.2', 'Age', 'first_name')"
     ]
    }
   ],
   "source": [
    "display(open_masc['21.2', 'Age', 'first_name'])"
   ]
  },
  {
   "cell_type": "code",
   "execution_count": null,
   "metadata": {},
   "outputs": [],
   "source": []
  }
 ],
 "metadata": {
  "kernelspec": {
   "display_name": "Python 3",
   "language": "python",
   "name": "python3"
  },
  "language_info": {
   "codemirror_mode": {
    "name": "ipython",
    "version": 3
   },
   "file_extension": ".py",
   "mimetype": "text/x-python",
   "name": "python",
   "nbconvert_exporter": "python",
   "pygments_lexer": "ipython3",
   "version": "3.8.10"
  },
  "orig_nbformat": 4,
  "vscode": {
   "interpreter": {
    "hash": "916dbcbb3f70747c44a77c7bcd40155683ae19c65e1c03b4aa3499c5328201f1"
   }
  }
 },
 "nbformat": 4,
 "nbformat_minor": 2
}
